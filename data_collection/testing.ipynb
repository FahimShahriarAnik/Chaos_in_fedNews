{
 "cells": [
  {
   "cell_type": "code",
   "execution_count": 4,
   "metadata": {},
   "outputs": [
    {
     "name": "stdout",
     "output_type": "stream",
     "text": [
      "➜ Downloading to /home/csgrads/shahr072/sc_proj/data_collection/fednews_posts.jsonl\n"
     ]
    },
    {
     "name": "stdout",
     "output_type": "stream",
     "text": [
      "✅ Done!\n"
     ]
    }
   ],
   "source": [
    "import requests\n",
    "from pathlib import Path\n",
    "from datetime import date\n",
    "\n",
    "# --- paste the URL you copied in step-1 ---\n",
    "BASE_URL_POST = (\n",
    "    \"https://arctic-shift.photon-reddit.com/api/posts/search?\"\n",
    ")\n",
    "\n",
    "# https://arctic-shift.photon-reddit.com/api/posts/search?subreddit=fednews&before=1743465600000&limit=auto&sort=asc&after=1735689600000&meta-app=download-tool\n",
    "1735689600\n",
    "# Build your query parameters; change as needed\n",
    "params = {\n",
    "    \"subreddit\": \"fednews\",\n",
    "    # convert the date to utc timestamp\n",
    "    # 2025-01-01 00:00:00 UTC = 1735689600\n",
    "    # 2025-01-31 23:59:59 UTC = 1743465599\n",
    "    \"before\": \"1743465599\", # data fetch ending date\n",
    "    \"limit\" : \"auto\",\n",
    "    \"sort\" : \"asc\",\n",
    "    \"after\":  \"1735689600\", # data fetch starting date\n",
    "    \"meta-app\" : \"download-tool\"\n",
    "}\n",
    "\n",
    "# Where to put the data\n",
    "out_path = Path(f\"{params['subreddit']}_posts.jsonl\")\n",
    "\n",
    "CHUNK = 1 << 14          # 16 kB blocks\n",
    "\n",
    "print(f\"➜ Downloading to {out_path.resolve()}\")\n",
    "with requests.get(BASE_URL_POST, params=params, stream=True, timeout=30) as r:\n",
    "    r.raise_for_status()                     # 4xx/5xx → exception\n",
    "    with out_path.open(\"wb\") as f:\n",
    "        for chunk in r.iter_content(CHUNK):\n",
    "            if chunk:                       # skip keep-alive chunks\n",
    "                f.write(chunk)\n",
    "\n",
    "print(\"✅ Done!\")\n"
   ]
  },
  {
   "cell_type": "code",
   "execution_count": 1,
   "metadata": {},
   "outputs": [
    {
     "name": "stdout",
     "output_type": "stream",
     "text": [
      "Max created_utc value: 1746075407\n",
      "Converted date (UTC): 2025-05-01 04:56:47\n"
     ]
    },
    {
     "name": "stderr",
     "output_type": "stream",
     "text": [
      "/tmp/ipykernel_1082859/86868669.py:13: DeprecationWarning: datetime.datetime.utcfromtimestamp() is deprecated and scheduled for removal in a future version. Use timezone-aware objects to represent datetimes in UTC: datetime.datetime.fromtimestamp(timestamp, datetime.UTC).\n",
      "  max_date = datetime.utcfromtimestamp(max_created_utc)\n"
     ]
    }
   ],
   "source": [
    "import json\n",
    "from datetime import datetime\n",
    "\n",
    "max_created_utc = float('-inf')\n",
    "\n",
    "with open('layoffs_comments_2022-01-01_to_2025-05-01_filtered.jsonl', 'r') as file:\n",
    "    for line in file:\n",
    "        data = json.loads(line)\n",
    "        created_utc = data.get('created_utc', 0)\n",
    "        if created_utc > max_created_utc:\n",
    "            max_created_utc = created_utc\n",
    "\n",
    "max_date = datetime.utcfromtimestamp(max_created_utc)\n",
    "print(\"Max created_utc value:\", max_created_utc)\n",
    "print(\"Converted date (UTC):\", max_date)\n"
   ]
  },
  {
   "cell_type": "code",
   "execution_count": 2,
   "metadata": {},
   "outputs": [
    {
     "name": "stdout",
     "output_type": "stream",
     "text": [
      "Total number of comments: 418769\n"
     ]
    }
   ],
   "source": [
    "count = 0\n",
    "with open('layoffs_comments_2022-01-01_to_2025-05-01_filtered.jsonl', 'r') as file:\n",
    "    for _ in file:\n",
    "        count += 1\n",
    "\n",
    "print(\"Total number of comments:\", count)\n"
   ]
  }
 ],
 "metadata": {
  "kernelspec": {
   "display_name": "base",
   "language": "python",
   "name": "python3"
  },
  "language_info": {
   "codemirror_mode": {
    "name": "ipython",
    "version": 3
   },
   "file_extension": ".py",
   "mimetype": "text/x-python",
   "name": "python",
   "nbconvert_exporter": "python",
   "pygments_lexer": "ipython3",
   "version": "3.12.7"
  }
 },
 "nbformat": 4,
 "nbformat_minor": 2
}
