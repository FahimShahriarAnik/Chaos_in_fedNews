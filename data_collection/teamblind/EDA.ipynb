{
 "cells": [
  {
   "cell_type": "code",
   "execution_count": 1,
   "metadata": {},
   "outputs": [
    {
     "name": "stdout",
     "output_type": "stream",
     "text": [
      "Total number of posts: 9407\n",
      "Total comments across all posts: 257843\n",
      "Date range: 2022-01-02 to 2025-06-18\n"
     ]
    }
   ],
   "source": [
    "import json\n",
    "\n",
    "# Replace with your actual file path\n",
    "file_path = \"teamblind_layoffs_posts_completed_scrapping.json\"\n",
    "\n",
    "# 1. Load the JSON data\n",
    "with open(file_path, 'r', encoding='utf-8') as f:\n",
    "    data = json.load(f)\n",
    "\n",
    "# 2. Count the number of posts\n",
    "post_count = len(data)\n",
    "print(f\"Total number of posts: {post_count}\")\n",
    "\n",
    "# 3. Count total comments across all posts\n",
    "total_comments = sum(post.get(\"commentCount\", 0) for post in data)\n",
    "print(f\"Total comments across all posts: {total_comments}\")\n",
    "\n",
    "# 4. Show date range (optional)\n",
    "dates = [post[\"date\"] for post in data]\n",
    "print(f\"Date range: {min(dates)} to {max(dates)}\")"
   ]
  }
 ],
 "metadata": {
  "kernelspec": {
   "display_name": "base",
   "language": "python",
   "name": "python3"
  },
  "language_info": {
   "codemirror_mode": {
    "name": "ipython",
    "version": 3
   },
   "file_extension": ".py",
   "mimetype": "text/x-python",
   "name": "python",
   "nbconvert_exporter": "python",
   "pygments_lexer": "ipython3",
   "version": "3.12.7"
  }
 },
 "nbformat": 4,
 "nbformat_minor": 2
}
