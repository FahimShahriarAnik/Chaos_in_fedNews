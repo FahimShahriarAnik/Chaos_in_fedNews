{
 "cells": [
  {
   "cell_type": "markdown",
   "metadata": {},
   "source": [
    "used the following code to filter relevant posts containing these flares related to layoffs."
   ]
  },
  {
   "cell_type": "code",
   "execution_count": 3,
   "metadata": {},
   "outputs": [
    {
     "name": "stdout",
     "output_type": "stream",
     "text": [
      "recently laid off: 3680\n",
      "job hunting: 1037\n",
      "about to be laid off: 290\n",
      "previously laid off: 588\n"
     ]
    }
   ],
   "source": [
    "import json\n",
    "from collections import defaultdict\n",
    "import os\n",
    "\n",
    "target_flairs = {\n",
    "    \"about to be laid off\",\n",
    "    \"recently laid off\",\n",
    "    \"previously laid off\",\n",
    "    \"job hunting\"\n",
    "}\n",
    "\n",
    "os.makedirs(\"flairwise\", exist_ok=True)\n",
    "output_path = \"flairwise/layoffs_posts.jsonl\"\n",
    "\n",
    "filtered_counts = defaultdict(int)\n",
    "\n",
    "with open('layoffs_posts_2022-01-01_to_2025-05-01_filtered.jsonl', 'r') as infile, \\\n",
    "     open(output_path, 'w') as outfile:\n",
    "    for line in infile:\n",
    "        data = json.loads(line)\n",
    "        flair = (data.get('link_flair_text') or '').strip().lower()\n",
    "        if flair in target_flairs:\n",
    "            json.dump(data, outfile)\n",
    "            outfile.write('\\n')\n",
    "            filtered_counts[flair] += 1\n",
    "\n",
    "for flair, count in filtered_counts.items():\n",
    "    print(f\"{flair}: {count}\")\n"
   ]
  },
  {
   "cell_type": "code",
   "execution_count": 3,
   "metadata": {},
   "outputs": [
    {
     "name": "stdout",
     "output_type": "stream",
     "text": [
      "job searching: 43915\n",
      "leaving a job: 22349\n",
      "unemployment: 6328\n",
      "rejections: 5107\n",
      "layoffs: 3447\n"
     ]
    }
   ],
   "source": [
    "import json\n",
    "from collections import defaultdict\n",
    "import os\n",
    "\n",
    "#\"Job searching\", \"Layoffs\", \"Unemployment\", \"Rejections\", \"Leaving a job\"   \n",
    "\n",
    "target_flairs = {\n",
    "    \"job searching\",\n",
    "    \"layoffs\",\n",
    "    \"unemployment\",\n",
    "    \"rejections\",\n",
    "    \"leaving a job\"\n",
    "}\n",
    "\n",
    "os.makedirs(\"flairwise\", exist_ok=True)\n",
    "output_path = \"flairwise/jobs_posts.jsonl\"\n",
    "\n",
    "filtered_counts = defaultdict(int)\n",
    "\n",
    "with open('jobs_posts_2022-01-01_to_2025-05-01_filtered.jsonl', 'r') as infile, \\\n",
    "     open(output_path, 'w') as outfile:\n",
    "    for line in infile:\n",
    "        data = json.loads(line)\n",
    "        flair = (data.get('link_flair_text') or '').strip().lower()\n",
    "        if flair in target_flairs:\n",
    "            json.dump(data, outfile)\n",
    "            outfile.write('\\n')\n",
    "            filtered_counts[flair] += 1\n",
    "\n",
    "for flair, count in filtered_counts.items():\n",
    "    print(f\"{flair}: {count}\")\n"
   ]
  }
 ],
 "metadata": {
  "kernelspec": {
   "display_name": "base",
   "language": "python",
   "name": "python3"
  },
  "language_info": {
   "codemirror_mode": {
    "name": "ipython",
    "version": 3
   },
   "file_extension": ".py",
   "mimetype": "text/x-python",
   "name": "python",
   "nbconvert_exporter": "python",
   "pygments_lexer": "ipython3",
   "version": "3.12.7"
  }
 },
 "nbformat": 4,
 "nbformat_minor": 2
}
