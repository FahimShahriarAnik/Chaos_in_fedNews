{
 "cells": [
  {
   "cell_type": "markdown",
   "metadata": {},
   "source": [
    "check diff of link and parent id."
   ]
  },
  {
   "cell_type": "code",
   "execution_count": 1,
   "metadata": {},
   "outputs": [
    {
     "name": "stdout",
     "output_type": "stream",
     "text": [
      "Number of matches (link_id == parent_id): 319658\n",
      "Number of mismatches (link_id != parent_id): 495489\n",
      "Total entries processed: 815147\n"
     ]
    }
   ],
   "source": [
    "import json\n",
    "\n",
    "# Initialize counters\n",
    "match_count = 0\n",
    "mismatch_count = 0\n",
    "\n",
    "# Open and read the JSON file (assuming it's a list of entries)\n",
    "with open('2_months_data/filtered_comments.jsonl', 'r') as file:\n",
    "    #data = json.load(file)  # If it's a list of JSON objects\n",
    "    # If it's a JSON Lines file (one JSON per line), use:\n",
    "    data = [json.loads(line) for line in file]\n",
    "\n",
    "    for entry in data:\n",
    "        link_id = entry.get('link_id', None)\n",
    "        parent_id = entry.get('parent_id', None)\n",
    "        \n",
    "        if link_id is not None and parent_id is not None:\n",
    "            if link_id == parent_id:\n",
    "                match_count += 1\n",
    "            else:\n",
    "                mismatch_count += 1\n",
    "        else:\n",
    "            print(f\"Skipping entry (missing fields): {entry.get('id', 'unknown')}\")\n",
    "\n",
    "# Print results\n",
    "print(f\"Number of matches (link_id == parent_id): {match_count}\")\n",
    "print(f\"Number of mismatches (link_id != parent_id): {mismatch_count}\")\n",
    "print(f\"Total entries processed: {match_count + mismatch_count}\")"
   ]
  },
  {
   "cell_type": "code",
   "execution_count": 3,
   "metadata": {},
   "outputs": [
    {
     "name": "stdout",
     "output_type": "stream",
     "text": [
      "Top-level comments (reply to post): 319658\n",
      "Nested comments (reply to another comment): 495489\n"
     ]
    }
   ],
   "source": [
    "import json\n",
    "\n",
    "top_level = 0  # parent_id == t3_ (reply to post)\n",
    "nested = 0     # parent_id == t1_ (reply to comment)\n",
    "\n",
    "with open('2_months_data/filtered_comments.jsonl', 'r') as file:\n",
    "    data = [json.loads(line) for line in file]\n",
    "    \n",
    "    for entry in data:\n",
    "        parent_id = entry.get('parent_id', '')\n",
    "        \n",
    "        if parent_id.startswith('t3_'):\n",
    "            top_level += 1\n",
    "        elif parent_id.startswith('t1_'):\n",
    "            nested += 1\n",
    "        else:\n",
    "            print(f\"Unknown parent_id format: {parent_id}\")\n",
    "\n",
    "print(f\"Top-level comments (reply to post): {top_level}\")\n",
    "print(f\"Nested comments (reply to another comment): {nested}\")"
   ]
  },
  {
   "cell_type": "code",
   "execution_count": 6,
   "metadata": {},
   "outputs": [
    {
     "name": "stdout",
     "output_type": "stream",
     "text": [
      "Loaded 31602 unique post IDs from posts file\n",
      "\n",
      "Results:\n",
      "Comments matching known posts: 812565\n",
      "Comments from unknown posts: 0\n",
      "Percentage matched: 100.00%\n"
     ]
    }
   ],
   "source": [
    "import json\n",
    "\n",
    "# Step 1: Load all post IDs from filtered_posts.jsonl\n",
    "post_ids = set()\n",
    "\n",
    "with open('2_months_data/filtered_posts.jsonl', 'r') as posts_file:\n",
    "    for line in posts_file:\n",
    "        try:\n",
    "            post = json.loads(line)\n",
    "            post_ids.add(post['id'])  # Raw ID (without 't3_')\n",
    "        except json.JSONDecodeError:\n",
    "            print(f\"Skipping malformed line in posts file: {line[:100]}...\")\n",
    "        except KeyError:\n",
    "            print(f\"Post missing 'id' field: {line[:100]}...\")\n",
    "\n",
    "print(f\"Loaded {len(post_ids)} unique post IDs from posts file\")\n",
    "\n",
    "# Step 2: Analyze comments against known posts\n",
    "matched_comments = 0\n",
    "unmatched_comments = 0\n",
    "\n",
    "with open('2_months_data/filtered_comments_matched.jsonl', 'r') as comments_file:\n",
    "    for line in comments_file:\n",
    "        try:\n",
    "            comment = json.loads(line)\n",
    "            link_id = comment['link_id']\n",
    "            \n",
    "            # Extract post ID by removing 't3_' prefix\n",
    "            post_id_from_comment = link_id[3:] if link_id.startswith('t3_') else link_id\n",
    "            \n",
    "            if post_id_from_comment in post_ids:\n",
    "                matched_comments += 1\n",
    "            else:\n",
    "                unmatched_comments += 1\n",
    "                \n",
    "        except json.JSONDecodeError:\n",
    "            print(f\"Skipping malformed line in comments file: {line[:100]}...\")\n",
    "        except KeyError:\n",
    "            print(f\"Comment missing 'link_id' field: {line[:100]}...\")\n",
    "\n",
    "# Results\n",
    "print(\"\\nResults:\")\n",
    "print(f\"Comments matching known posts: {matched_comments}\")\n",
    "print(f\"Comments from unknown posts: {unmatched_comments}\")\n",
    "print(f\"Percentage matched: {(matched_comments/(matched_comments+unmatched_comments))*100:.2f}%\")"
   ]
  },
  {
   "cell_type": "code",
   "execution_count": 5,
   "metadata": {},
   "outputs": [
    {
     "name": "stdout",
     "output_type": "stream",
     "text": [
      "Loaded 31602 unique post IDs\n",
      "\n",
      "Filtering results:\n",
      "Comments kept: 812565\n",
      "Comments dropped: 2582\n",
      "New filtered file: 'filtered_comments_matched.jsonl'\n"
     ]
    }
   ],
   "source": [
    "import json\n",
    "\n",
    "# Step 1: Load all post IDs from filtered_posts.jsonl\n",
    "post_ids = set()\n",
    "\n",
    "with open('2_months_data/filtered_posts.jsonl', 'r') as posts_file:\n",
    "    for line in posts_file:\n",
    "        try:\n",
    "            post = json.loads(line)\n",
    "            post_ids.add(post['id'])  # Raw ID (without 't3_')\n",
    "        except json.JSONDecodeError:\n",
    "            print(f\"Skipping malformed line in posts file: {line[:100]}...\")\n",
    "\n",
    "print(f\"Loaded {len(post_ids)} unique post IDs\")\n",
    "\n",
    "# Step 2: Filter comments and write to new file\n",
    "kept_comments = 0\n",
    "dropped_comments = 0\n",
    "\n",
    "with (open('2_months_data/filtered_comments.jsonl', 'r') as comments_file,\n",
    "      open('2_months_data/filtered_comments_matched.jsonl', 'w') as output_file):\n",
    "    \n",
    "    for line in comments_file:\n",
    "        try:\n",
    "            comment = json.loads(line)\n",
    "            link_id = comment['link_id']\n",
    "            post_id_from_comment = link_id[3:] if link_id.startswith('t3_') else link_id\n",
    "            \n",
    "            if post_id_from_comment in post_ids:\n",
    "                output_file.write(line)  # Keep original line to preserve formatting\n",
    "                kept_comments += 1\n",
    "            else:\n",
    "                dropped_comments += 1\n",
    "                \n",
    "        except json.JSONDecodeError:\n",
    "            print(f\"Skipping malformed line: {line[:100]}...\")\n",
    "\n",
    "# Results\n",
    "print(\"\\nFiltering results:\")\n",
    "print(f\"Comments kept: {kept_comments}\")\n",
    "print(f\"Comments dropped: {dropped_comments}\")\n",
    "print(f\"New filtered file: 'filtered_comments_matched.jsonl'\")"
   ]
  },
  {
   "cell_type": "code",
   "execution_count": 7,
   "metadata": {},
   "outputs": [
    {
     "name": "stdout",
     "output_type": "stream",
     "text": [
      "All link_id values start with 't3_' - safe to proceed\n"
     ]
    }
   ],
   "source": [
    "import json\n",
    "\n",
    "has_non_t3 = False\n",
    "\n",
    "with open('2_months_data/filtered_comments.jsonl', 'r') as f:\n",
    "    for line in f:\n",
    "        try:\n",
    "            comment = json.loads(line)\n",
    "            link_id = comment.get('link_id', '')\n",
    "            if not link_id.startswith('t3_'):\n",
    "                has_non_t3 = True\n",
    "                print(f\"Found non-t3 link_id: {link_id} in comment {comment.get('id')}\")\n",
    "                break\n",
    "        except json.JSONDecodeError:\n",
    "            continue\n",
    "\n",
    "if not has_non_t3:\n",
    "    print(\"All link_id values start with 't3_' - safe to proceed\")\n",
    "else:\n",
    "    print(\"Warning: Found comments with non-t3 link_id prefixes\")"
   ]
  },
  {
   "cell_type": "code",
   "execution_count": 8,
   "metadata": {},
   "outputs": [
    {
     "name": "stdout",
     "output_type": "stream",
     "text": [
      "Created new file with cleaned link_ids: filtered_comments_cleanlink.jsonl\n"
     ]
    }
   ],
   "source": [
    "if not has_non_t3:\n",
    "    with (open('2_months_data/filtered_comments.jsonl', 'r') as infile,\n",
    "          open('2_months_data/filtered_comments_cleanlink.jsonl', 'w') as outfile):\n",
    "        \n",
    "        for line in infile:\n",
    "            try:\n",
    "                comment = json.loads(line)\n",
    "                # Remove t3_ prefix while maintaining all other fields\n",
    "                comment['link_id'] = comment['link_id'][3:]\n",
    "                outfile.write(json.dumps(comment) + '\\n')\n",
    "            except json.JSONDecodeError:\n",
    "                continue  # skip malformed lines\n",
    "\n",
    "    print(\"Created new file with cleaned link_ids: filtered_comments_cleanlink.jsonl\")\n",
    "else:\n",
    "    print(\"Aborting cleanup due to non-t3 link_ids found\")"
   ]
  }
 ],
 "metadata": {
  "kernelspec": {
   "display_name": "base",
   "language": "python",
   "name": "python3"
  },
  "language_info": {
   "codemirror_mode": {
    "name": "ipython",
    "version": 3
   },
   "file_extension": ".py",
   "mimetype": "text/x-python",
   "name": "python",
   "nbconvert_exporter": "python",
   "pygments_lexer": "ipython3",
   "version": "3.12.7"
  }
 },
 "nbformat": 4,
 "nbformat_minor": 2
}
