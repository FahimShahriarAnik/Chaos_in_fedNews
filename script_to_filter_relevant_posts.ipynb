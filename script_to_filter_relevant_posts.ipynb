{
 "cells": [
  {
   "cell_type": "code",
   "execution_count": 4,
   "metadata": {},
   "outputs": [
    {
     "name": "stdout",
     "output_type": "stream",
     "text": [
      "/home/csgrads/shahr072/sc_proj\n",
      "Found 405 posts mentioning DEI/DEIA.\n",
      "Found 995 posts mentioning DOGE/Department of Government Efficiency.\n"
     ]
    },
    {
     "data": {
      "text/plain": [
       "('dei_mentions_posts.jsonl', 'doge_mentions_posts.jsonl')"
      ]
     },
     "execution_count": 4,
     "metadata": {},
     "output_type": "execute_result"
    }
   ],
   "source": [
    "import json\n",
    "import os\n",
    "\n",
    "print(os.getcwd())\n",
    "\n",
    "# Load the posts.jsonl file\n",
    "input_file_path = \"2_months_data/filtered_posts.jsonl\"\n",
    "\n",
    "# Extract posts that mention DEI/DEIA and DOGE/Department of Government Efficiency\n",
    "dei_keywords = {\"DEI\", \"DEIA\", \"dei\", \"deia\"}\n",
    "doge_keywords = {\"DOGE\", \"doge\", \"department of government efficiency\"}\n",
    "\n",
    "dei_posts = []\n",
    "doge_posts = []\n",
    "\n",
    "with open(input_file_path, \"r\", encoding=\"utf-8\") as f:\n",
    "    for line in f:\n",
    "        post = json.loads(line)\n",
    "        text = (post.get(\"title\", \"\") + \" \" + post.get(\"selftext\", \"\")).lower()\n",
    "        if any(keyword in text for keyword in dei_keywords):\n",
    "            dei_posts.append(post)\n",
    "        if any(keyword in text for keyword in doge_keywords):\n",
    "            doge_posts.append(post)\n",
    "\n",
    "print(f\"Found {len(dei_posts)} posts mentioning DEI/DEIA.\")\n",
    "print(f\"Found {len(doge_posts)} posts mentioning DOGE/Department of Government Efficiency.\")\n",
    "# Save matched posts into separate files\n",
    "dei_output_path = \"dei_mentions_posts.jsonl\"\n",
    "doge_output_path = \"doge_mentions_posts.jsonl\"\n",
    "\n",
    "with open(dei_output_path, \"w\", encoding=\"utf-8\") as f_dei:\n",
    "    for post in dei_posts:\n",
    "        f_dei.write(json.dumps(post) + \"\\n\")\n",
    "\n",
    "with open(doge_output_path, \"w\", encoding=\"utf-8\") as f_doge:\n",
    "    for post in doge_posts:\n",
    "        f_doge.write(json.dumps(post) + \"\\n\")\n",
    "\n",
    "dei_output_path, doge_output_path\n"
   ]
  }
 ],
 "metadata": {
  "kernelspec": {
   "display_name": "base",
   "language": "python",
   "name": "python3"
  },
  "language_info": {
   "codemirror_mode": {
    "name": "ipython",
    "version": 3
   },
   "file_extension": ".py",
   "mimetype": "text/x-python",
   "name": "python",
   "nbconvert_exporter": "python",
   "pygments_lexer": "ipython3",
   "version": "3.12.7"
  }
 },
 "nbformat": 4,
 "nbformat_minor": 2
}
