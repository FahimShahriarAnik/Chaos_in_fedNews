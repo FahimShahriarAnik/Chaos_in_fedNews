{
 "cells": [
  {
   "cell_type": "code",
   "execution_count": 1,
   "metadata": {},
   "outputs": [],
   "source": [
    "# Required Libraries\n",
    "import json\n",
    "import pandas as pd\n",
    "import matplotlib.pyplot as plt\n",
    "import seaborn as sns\n",
    "from collections import defaultdict\n",
    "import numpy as np\n",
    "from nltk.corpus import stopwords\n",
    "from nltk.stem import WordNetLemmatizer\n",
    "import re\n",
    "import string\n",
    "from sklearn.feature_extraction.text import TfidfVectorizer\n",
    "# Download NLTK Resources\n",
    "import nltk"
   ]
  },
  {
   "cell_type": "code",
   "execution_count": 2,
   "metadata": {},
   "outputs": [
    {
     "name": "stderr",
     "output_type": "stream",
     "text": [
      "[nltk_data] Downloading package stopwords to\n",
      "[nltk_data]     /home/csgrads/shahr072/nltk_data...\n",
      "[nltk_data]   Package stopwords is already up-to-date!\n",
      "[nltk_data] Downloading package wordnet to\n",
      "[nltk_data]     /home/csgrads/shahr072/nltk_data...\n",
      "[nltk_data]   Package wordnet is already up-to-date!\n"
     ]
    }
   ],
   "source": [
    "nltk.download('stopwords')\n",
    "nltk.download('wordnet')\n",
    "\n",
    "# Set up Lemmatizer and Stopwords\n",
    "lemmatizer = WordNetLemmatizer()\n",
    "# Expanded list of stopwords including bigrams\n",
    "SINGLE_STOPWORDS = set(stopwords.words('english')).union({\n",
    "    # General fillers\n",
    "    'get', 'got', 'like', 'know', 'one', 'thing', 'things', 'really', 'would', 'could', 'also',\n",
    "    'even', 'make', 'much', 'many', 'say', 'said', 'well', 'still', 'dont', 'didnt', 'cant', 'im',\n",
    "    'us', 'use', 'using', 'way', 'need', 'want', 'think', 'go', 'going', 'take', 'give', 'see', 'may',  \n",
    "    # Contextless personal pronouns\n",
    "    'i', 'you', 'he', 'she', 'we', 'they', 'me', 'him', 'her', 'them', 'your', 'my', 'our', 'their',   \n",
    "    # Domain-generic words\n",
    "    'agency', 'federal', 'employee', 'employees', 'government', 'position', 'job', 'jobs', 'office',\n",
    "    'manager', 'supervisor', 'human', 'resource', 'work', 'working', 'time', 'day', 'year', 'month',\n",
    "    'week', 'leave', 'pay', 'email', 'contact', 'title', 'context', 'question', 'concern', 'thank',\n",
    "    'please', 'subreddit', 'moderator', 'bot', 'automatically', 'performed', 'message', 'compose',\n",
    "    # Reddit/meta-specific terms\n",
    "    'removed', 'deleted', 'post', 'thread', 'comment', 'reply', 'upvote', 'downvote',\n",
    "})\n",
    "\n",
    "BIGRAM_STOPWORDS=set({\n",
    "    # Contractions (as bigrams often yield them)\n",
    "    'you re', 'they re', 'we re', 'it s', 'that s', 'what s', 'who s', 'isn t', 'wasn t', 'aren t',\n",
    "    'doesn t', 'don t', 'didn t', 'hasn t', 'haven t', 'hadn t', 'can t', 'couldn t', 'shouldn t',\n",
    "    # Low-value system phrases from earlier outputs\n",
    "    'provide context', 'context title', 'please contact', 'bot action', 'message compose',\n",
    "    'fednews question', 'action performed', 'performed automatically', 'compose fednews',\n",
    "    'moderator subreddit', 'subreddit message', 'contact moderator', 'question concern',\n",
    "    'automatically please',\n",
    "})"
   ]
  },
  {
   "cell_type": "code",
   "execution_count": 1,
   "metadata": {},
   "outputs": [],
   "source": [
    "def clean_text(text):\n",
    "    \"\"\"\n",
    "    Function to clean and preprocess the text.\n",
    "    - Converts to lowercase.\n",
    "    - Removes URLs and punctuation.\n",
    "    - Lemmatizes first, then removes single word stopwords and bigram stopwords.\n",
    "    \"\"\"\n",
    "    # Convert to lowercase\n",
    "    text = text.lower()\n",
    "    # Remove URLs\n",
    "    text = re.sub(r\"http\\S+\", \"\", text)\n",
    "    # Remove punctuation\n",
    "    text = re.sub(rf\"[{re.escape(string.punctuation)}]\", \" \", text)\n",
    "    # Tokenize the text\n",
    "    tokens = text.split()\n",
    "    # First, lemmatize all tokens\n",
    "    lemmatized_tokens = [lemmatizer.lemmatize(word) for word in tokens]\n",
    "    # Remove single-word stopwords\n",
    "    filtered_tokens = [token for token in lemmatized_tokens if token not in SINGLE_STOPWORDS and len(token) > 2]\n",
    "\n",
    "    # Now remove bigrams\n",
    "    i = 0\n",
    "    final_filtered_tokens = []\n",
    "    bigrams_removed = 0\n",
    "    while i < len(filtered_tokens):\n",
    "        # Create bigram\n",
    "        if i < len(filtered_tokens) - 1:\n",
    "            bigram = f\"{filtered_tokens[i]} {filtered_tokens[i+1]}\"\n",
    "            # Skip if it's in the bigram stopwords list\n",
    "            if bigram in BIGRAM_STOPWORDS:\n",
    "                bigrams_removed += 1\n",
    "                i += 2  # Skip both words of the bigram\n",
    "                continue\n",
    "\n",
    "        # Add lemmatized token to final list\n",
    "        final_filtered_tokens.append(filtered_tokens[i])\n",
    "        i += 1  # Move to the next token\n",
    "    if bigrams_removed>0: print(f\"Removed {bigrams_removed} bigrams from the text.\")\n",
    "    return \" \".join(final_filtered_tokens)\n",
    "\n",
    "    #return \" \".join(filtered_tokens)"
   ]
  },
  {
   "cell_type": "code",
   "execution_count": 4,
   "metadata": {},
   "outputs": [],
   "source": [
    "from datetime import datetime  # Add this line to import datetime\n",
    "\n",
    "# Load the posts and comments from JSONL files\n",
    "def load_jsonl(file_path, text_fields):\n",
    "    with open(file_path, 'r') as f:\n",
    "        data = [json.loads(line) for line in f]\n",
    "    rows = []\n",
    "    for item in data:\n",
    "        if any(item.get(field, '') in ['[removed]', '[deleted]'] for field in text_fields):\n",
    "            continue\n",
    "        text = ' '.join(item.get(field, '') for field in text_fields)\n",
    "        timestamp = item.get('created_utc')\n",
    "        if text and timestamp:\n",
    "            dt = datetime.utcfromtimestamp(timestamp)\n",
    "            week = dt.strftime('%Y-%U')  # Convert to week format (year-week)\n",
    "            rows.append((week, clean_text(text)))\n",
    "    return rows"
   ]
  },
  {
   "cell_type": "code",
   "execution_count": 5,
   "metadata": {},
   "outputs": [
    {
     "name": "stderr",
     "output_type": "stream",
     "text": [
      "/tmp/ipykernel_2930478/1504836014.py:14: DeprecationWarning: datetime.datetime.utcfromtimestamp() is deprecated and scheduled for removal in a future version. Use timezone-aware objects to represent datetimes in UTC: datetime.datetime.fromtimestamp(timestamp, datetime.UTC).\n",
      "  dt = datetime.utcfromtimestamp(timestamp)\n"
     ]
    }
   ],
   "source": [
    "# Example: Load data for posts and comments\n",
    "# combining texts or relevant fields and adding a timestamp of week with that.\n",
    "posts = load_jsonl('../2_months_data/filtered_posts.jsonl', ['title', 'selftext'])\n",
    "#posts = load_jsonl('../2_months_data/filtered_comments.jsonl', ['body'])\n",
    "#comments = load_jsonl('../2_months_data/filtered_comments.jsonl', ['body'])"
   ]
  },
  {
   "cell_type": "code",
   "execution_count": 6,
   "metadata": {},
   "outputs": [
    {
     "name": "stdout",
     "output_type": "stream",
     "text": [
      "Sample posts:\n",
      "('2025-00', 'connecticut fed health insurance pick remote new health insurance pick old wife asthma looking high deductible plan reason tell choose far seems aetna blue cross best option')\n",
      "('2025-00', 'someone explain compare')\n",
      "('2025-00', 'advice needed class bit comparison explanation supply tech routinely weekly stock order hospital clinic external cbocs maintain inventory inventory editing predicting usage normal duty supply tech recently asked management department looking classification burnt workload told relative type repetitive considering filing grievance union requesting opm audit wanted opinion two inventory report weekly update inventory receivables gs9 responsible clinic try union start search nuclear request audit request opm audit doe anyone start')\n",
      "('2025-00', 'vha gsa remote currently remote vha offered two promotion vha gsa remote similar difference since vha special salary rate step lower gsa i’m trying figure there’s reason prefer here’s thinking feel free chime advice might helpful better doe matter lower step ssr higher step without ssr cancelled drop either agency’s remote especially crosshairs new administration either matter anyone worked gsa place i’ve always felt vha relatively safe politician mess veteran healthcare i’m sure that’s actually true anymore doe gsa similar protection politician since gsa charge real estate actually full disclosure don’t understand gsa doe')\n",
      "('2025-00', 'employment europe worth “be careful wish wish exactly is” relative i’m thinking applying germany believe travel europe possible quote exactly i’m posting already europe often able travel easier harder save money travel living europe personal vehicle state single relationship possible everyone else already married average distance range station allows travel clearance difference travel opportunity')\n",
      "('2025-00', 'late claim health reward tonight midnight find place put claim geha standard health reward late hiding')\n",
      "16037\n"
     ]
    }
   ],
   "source": [
    "# print sample of posts\n",
    "print(\"Sample posts:\")\n",
    "for i in range(6):\n",
    "    print(posts[i])\n",
    "print(len(posts))"
   ]
  },
  {
   "cell_type": "code",
   "execution_count": 7,
   "metadata": {},
   "outputs": [],
   "source": [
    "# grouping the posts/comments by week\n",
    "combined_by_week = defaultdict(list)\n",
    "for week, text in posts:\n",
    "    combined_by_week[week].append(text)"
   ]
  },
  {
   "cell_type": "code",
   "execution_count": 8,
   "metadata": {},
   "outputs": [
    {
     "name": "stdout",
     "output_type": "stream",
     "text": [
      "Sample combined_by_week:\n",
      "2025-00 ['connecticut fed health insurance pick remote new health insurance pick old wife asthma looking high deductible plan reason tell choose far seems aetna blue cross best option', 'someone explain compare']\n",
      "2025-01 ['significance accruing hour last ppd noticed accrued hour instead ppd wondering accrue additional hour tried look opm site reasoning isn’t specified', 'optimize scheduling trip another state part involve scheduling interview individual last hour fly two hour state authority schedule negotiate date interview held thinking matter compensated travel pours outside tod prefer avoid booking hotel back home best schedule interview least near noon fly earlier account potential flight delay']\n",
      "2025-02 ['significance coming probation period nonbargaining appeal right additional protection doe completing probation period offer nonbargaining unit', 'talk fed losing aws discussion fed losing schedule fed hour period 10th chopping block figured ask thanks advance']\n",
      "2025-03 ['stop complaining everybody’s worried new administration wouldn’t harder ignorant i’m worried level effort intelligence bring organization everyday care it’s firing maybe harder didn’t vote administration worked marine different president force fell fear mongering', 'anyone explain rank file called “bureaucrats” lately always took term bureaucrat someone charge elected official appointed official idea possibly considered bureaucratic']\n",
      "2025-04 ['look probation irs agent getting boot vega rally earlier president donald trump announce intends reassign nearly 000 irs agent border patrol duty demand resignation president donald trump major announcement rally vega nevada speech reveals plan reassign terminate nearly 000 irs agent border patrol duty move aimed strengthening border security alternatively state accept reassignment demand resignation signaling bold shift approach addressing immigration allocation', 'disability documented health issue never documented disability moving table remote worker anybody disability documented hurt']\n"
     ]
    }
   ],
   "source": [
    "# print sample of combined_by_week\n",
    "print(\"Sample combined_by_week:\")\n",
    "for week, texts in list(combined_by_week.items())[:5]:\n",
    "    print(week, texts[:2])  # Print the first two texts for each week"
   ]
  },
  {
   "cell_type": "code",
   "execution_count": 9,
   "metadata": {},
   "outputs": [
    {
     "name": "stdout",
     "output_type": "stream",
     "text": [
      "Size of each week in combined_by_week:\n",
      "2025-00 159\n",
      "2025-01 335\n",
      "2025-02 392\n",
      "2025-03 1473\n",
      "2025-04 4184\n",
      "2025-05 1844\n",
      "2025-06 1178\n",
      "2025-07 3401\n",
      "2025-08 3071\n"
     ]
    }
   ],
   "source": [
    "# size of each week in combined_by_week\n",
    "print(\"Size of each week in combined_by_week:\")\n",
    "for week, texts in combined_by_week.items():\n",
    "    print(week, len(texts))  # Print the size of each week"
   ]
  },
  {
   "cell_type": "markdown",
   "metadata": {},
   "source": [
    "topic modeling using bertopic"
   ]
  },
  {
   "cell_type": "code",
   "execution_count": 10,
   "metadata": {},
   "outputs": [
    {
     "name": "stdout",
     "output_type": "stream",
     "text": [
      "Requirement already satisfied: bertopic in /home/csgrads/shahr072/anaconda3/lib/python3.12/site-packages (0.17.0)\n",
      "Requirement already satisfied: hdbscan>=0.8.29 in /home/csgrads/shahr072/anaconda3/lib/python3.12/site-packages (from bertopic) (0.8.40)\n",
      "Requirement already satisfied: numpy>=1.20.0 in /home/csgrads/shahr072/anaconda3/lib/python3.12/site-packages (from bertopic) (1.26.4)\n",
      "Requirement already satisfied: pandas>=1.1.5 in /home/csgrads/shahr072/anaconda3/lib/python3.12/site-packages (from bertopic) (2.2.2)\n",
      "Requirement already satisfied: plotly>=4.7.0 in /home/csgrads/shahr072/anaconda3/lib/python3.12/site-packages (from bertopic) (5.24.1)\n",
      "Requirement already satisfied: scikit-learn>=1.0 in /home/csgrads/shahr072/anaconda3/lib/python3.12/site-packages (from bertopic) (1.5.1)\n",
      "Requirement already satisfied: sentence-transformers>=0.4.1 in /home/csgrads/shahr072/anaconda3/lib/python3.12/site-packages (from bertopic) (4.1.0)\n",
      "Requirement already satisfied: tqdm>=4.41.1 in /home/csgrads/shahr072/anaconda3/lib/python3.12/site-packages (from bertopic) (4.66.5)\n",
      "Requirement already satisfied: umap-learn>=0.5.0 in /home/csgrads/shahr072/anaconda3/lib/python3.12/site-packages (from bertopic) (0.5.7)\n",
      "Requirement already satisfied: scipy>=1.0 in /home/csgrads/shahr072/anaconda3/lib/python3.12/site-packages (from hdbscan>=0.8.29->bertopic) (1.13.1)\n",
      "Requirement already satisfied: joblib>=1.0 in /home/csgrads/shahr072/anaconda3/lib/python3.12/site-packages (from hdbscan>=0.8.29->bertopic) (1.4.2)\n",
      "Requirement already satisfied: python-dateutil>=2.8.2 in /home/csgrads/shahr072/anaconda3/lib/python3.12/site-packages (from pandas>=1.1.5->bertopic) (2.9.0.post0)\n",
      "Requirement already satisfied: pytz>=2020.1 in /home/csgrads/shahr072/anaconda3/lib/python3.12/site-packages (from pandas>=1.1.5->bertopic) (2024.1)\n",
      "Requirement already satisfied: tzdata>=2022.7 in /home/csgrads/shahr072/anaconda3/lib/python3.12/site-packages (from pandas>=1.1.5->bertopic) (2023.3)\n",
      "Requirement already satisfied: tenacity>=6.2.0 in /home/csgrads/shahr072/anaconda3/lib/python3.12/site-packages (from plotly>=4.7.0->bertopic) (8.2.3)\n",
      "Requirement already satisfied: packaging in /home/csgrads/shahr072/anaconda3/lib/python3.12/site-packages (from plotly>=4.7.0->bertopic) (24.1)\n",
      "Requirement already satisfied: threadpoolctl>=3.1.0 in /home/csgrads/shahr072/anaconda3/lib/python3.12/site-packages (from scikit-learn>=1.0->bertopic) (3.5.0)\n",
      "Requirement already satisfied: transformers<5.0.0,>=4.41.0 in /home/csgrads/shahr072/anaconda3/lib/python3.12/site-packages (from sentence-transformers>=0.4.1->bertopic) (4.51.3)\n",
      "Requirement already satisfied: torch>=1.11.0 in /home/csgrads/shahr072/anaconda3/lib/python3.12/site-packages (from sentence-transformers>=0.4.1->bertopic) (2.7.0)\n",
      "Requirement already satisfied: huggingface-hub>=0.20.0 in /home/csgrads/shahr072/anaconda3/lib/python3.12/site-packages (from sentence-transformers>=0.4.1->bertopic) (0.30.2)\n",
      "Requirement already satisfied: Pillow in /home/csgrads/shahr072/anaconda3/lib/python3.12/site-packages (from sentence-transformers>=0.4.1->bertopic) (10.4.0)\n",
      "Requirement already satisfied: typing_extensions>=4.5.0 in /home/csgrads/shahr072/anaconda3/lib/python3.12/site-packages (from sentence-transformers>=0.4.1->bertopic) (4.11.0)\n",
      "Requirement already satisfied: numba>=0.51.2 in /home/csgrads/shahr072/anaconda3/lib/python3.12/site-packages (from umap-learn>=0.5.0->bertopic) (0.60.0)\n",
      "Requirement already satisfied: pynndescent>=0.5 in /home/csgrads/shahr072/anaconda3/lib/python3.12/site-packages (from umap-learn>=0.5.0->bertopic) (0.5.13)\n",
      "Requirement already satisfied: filelock in /home/csgrads/shahr072/anaconda3/lib/python3.12/site-packages (from huggingface-hub>=0.20.0->sentence-transformers>=0.4.1->bertopic) (3.13.1)\n",
      "Requirement already satisfied: fsspec>=2023.5.0 in /home/csgrads/shahr072/anaconda3/lib/python3.12/site-packages (from huggingface-hub>=0.20.0->sentence-transformers>=0.4.1->bertopic) (2024.6.1)\n",
      "Requirement already satisfied: pyyaml>=5.1 in /home/csgrads/shahr072/anaconda3/lib/python3.12/site-packages (from huggingface-hub>=0.20.0->sentence-transformers>=0.4.1->bertopic) (6.0.1)\n",
      "Requirement already satisfied: requests in /home/csgrads/shahr072/anaconda3/lib/python3.12/site-packages (from huggingface-hub>=0.20.0->sentence-transformers>=0.4.1->bertopic) (2.32.3)\n",
      "Requirement already satisfied: llvmlite<0.44,>=0.43.0dev0 in /home/csgrads/shahr072/anaconda3/lib/python3.12/site-packages (from numba>=0.51.2->umap-learn>=0.5.0->bertopic) (0.43.0)\n",
      "Requirement already satisfied: six>=1.5 in /home/csgrads/shahr072/anaconda3/lib/python3.12/site-packages (from python-dateutil>=2.8.2->pandas>=1.1.5->bertopic) (1.16.0)\n",
      "Requirement already satisfied: setuptools in /home/csgrads/shahr072/anaconda3/lib/python3.12/site-packages (from torch>=1.11.0->sentence-transformers>=0.4.1->bertopic) (75.1.0)\n",
      "Requirement already satisfied: sympy>=1.13.3 in /home/csgrads/shahr072/anaconda3/lib/python3.12/site-packages (from torch>=1.11.0->sentence-transformers>=0.4.1->bertopic) (1.13.3)\n",
      "Requirement already satisfied: networkx in /home/csgrads/shahr072/anaconda3/lib/python3.12/site-packages (from torch>=1.11.0->sentence-transformers>=0.4.1->bertopic) (3.3)\n",
      "Requirement already satisfied: jinja2 in /home/csgrads/shahr072/anaconda3/lib/python3.12/site-packages (from torch>=1.11.0->sentence-transformers>=0.4.1->bertopic) (3.1.4)\n",
      "Requirement already satisfied: nvidia-cuda-nvrtc-cu12==12.6.77 in /home/csgrads/shahr072/anaconda3/lib/python3.12/site-packages (from torch>=1.11.0->sentence-transformers>=0.4.1->bertopic) (12.6.77)\n",
      "Requirement already satisfied: nvidia-cuda-runtime-cu12==12.6.77 in /home/csgrads/shahr072/anaconda3/lib/python3.12/site-packages (from torch>=1.11.0->sentence-transformers>=0.4.1->bertopic) (12.6.77)\n",
      "Requirement already satisfied: nvidia-cuda-cupti-cu12==12.6.80 in /home/csgrads/shahr072/anaconda3/lib/python3.12/site-packages (from torch>=1.11.0->sentence-transformers>=0.4.1->bertopic) (12.6.80)\n",
      "Requirement already satisfied: nvidia-cudnn-cu12==9.5.1.17 in /home/csgrads/shahr072/anaconda3/lib/python3.12/site-packages (from torch>=1.11.0->sentence-transformers>=0.4.1->bertopic) (9.5.1.17)\n",
      "Requirement already satisfied: nvidia-cublas-cu12==12.6.4.1 in /home/csgrads/shahr072/anaconda3/lib/python3.12/site-packages (from torch>=1.11.0->sentence-transformers>=0.4.1->bertopic) (12.6.4.1)\n",
      "Requirement already satisfied: nvidia-cufft-cu12==11.3.0.4 in /home/csgrads/shahr072/anaconda3/lib/python3.12/site-packages (from torch>=1.11.0->sentence-transformers>=0.4.1->bertopic) (11.3.0.4)\n",
      "Requirement already satisfied: nvidia-curand-cu12==10.3.7.77 in /home/csgrads/shahr072/anaconda3/lib/python3.12/site-packages (from torch>=1.11.0->sentence-transformers>=0.4.1->bertopic) (10.3.7.77)\n",
      "Requirement already satisfied: nvidia-cusolver-cu12==11.7.1.2 in /home/csgrads/shahr072/anaconda3/lib/python3.12/site-packages (from torch>=1.11.0->sentence-transformers>=0.4.1->bertopic) (11.7.1.2)\n",
      "Requirement already satisfied: nvidia-cusparse-cu12==12.5.4.2 in /home/csgrads/shahr072/anaconda3/lib/python3.12/site-packages (from torch>=1.11.0->sentence-transformers>=0.4.1->bertopic) (12.5.4.2)\n",
      "Requirement already satisfied: nvidia-cusparselt-cu12==0.6.3 in /home/csgrads/shahr072/anaconda3/lib/python3.12/site-packages (from torch>=1.11.0->sentence-transformers>=0.4.1->bertopic) (0.6.3)\n",
      "Requirement already satisfied: nvidia-nccl-cu12==2.26.2 in /home/csgrads/shahr072/anaconda3/lib/python3.12/site-packages (from torch>=1.11.0->sentence-transformers>=0.4.1->bertopic) (2.26.2)\n",
      "Requirement already satisfied: nvidia-nvtx-cu12==12.6.77 in /home/csgrads/shahr072/anaconda3/lib/python3.12/site-packages (from torch>=1.11.0->sentence-transformers>=0.4.1->bertopic) (12.6.77)\n",
      "Requirement already satisfied: nvidia-nvjitlink-cu12==12.6.85 in /home/csgrads/shahr072/anaconda3/lib/python3.12/site-packages (from torch>=1.11.0->sentence-transformers>=0.4.1->bertopic) (12.6.85)\n",
      "Requirement already satisfied: nvidia-cufile-cu12==1.11.1.6 in /home/csgrads/shahr072/anaconda3/lib/python3.12/site-packages (from torch>=1.11.0->sentence-transformers>=0.4.1->bertopic) (1.11.1.6)\n",
      "Requirement already satisfied: triton==3.3.0 in /home/csgrads/shahr072/anaconda3/lib/python3.12/site-packages (from torch>=1.11.0->sentence-transformers>=0.4.1->bertopic) (3.3.0)\n",
      "Requirement already satisfied: regex!=2019.12.17 in /home/csgrads/shahr072/anaconda3/lib/python3.12/site-packages (from transformers<5.0.0,>=4.41.0->sentence-transformers>=0.4.1->bertopic) (2024.9.11)\n",
      "Requirement already satisfied: tokenizers<0.22,>=0.21 in /home/csgrads/shahr072/anaconda3/lib/python3.12/site-packages (from transformers<5.0.0,>=4.41.0->sentence-transformers>=0.4.1->bertopic) (0.21.1)\n",
      "Requirement already satisfied: safetensors>=0.4.3 in /home/csgrads/shahr072/anaconda3/lib/python3.12/site-packages (from transformers<5.0.0,>=4.41.0->sentence-transformers>=0.4.1->bertopic) (0.5.3)\n",
      "Requirement already satisfied: mpmath<1.4,>=1.1.0 in /home/csgrads/shahr072/anaconda3/lib/python3.12/site-packages (from sympy>=1.13.3->torch>=1.11.0->sentence-transformers>=0.4.1->bertopic) (1.3.0)\n",
      "Requirement already satisfied: MarkupSafe>=2.0 in /home/csgrads/shahr072/anaconda3/lib/python3.12/site-packages (from jinja2->torch>=1.11.0->sentence-transformers>=0.4.1->bertopic) (2.1.3)\n",
      "Requirement already satisfied: charset-normalizer<4,>=2 in /home/csgrads/shahr072/anaconda3/lib/python3.12/site-packages (from requests->huggingface-hub>=0.20.0->sentence-transformers>=0.4.1->bertopic) (3.3.2)\n",
      "Requirement already satisfied: idna<4,>=2.5 in /home/csgrads/shahr072/anaconda3/lib/python3.12/site-packages (from requests->huggingface-hub>=0.20.0->sentence-transformers>=0.4.1->bertopic) (3.7)\n",
      "Requirement already satisfied: urllib3<3,>=1.21.1 in /home/csgrads/shahr072/anaconda3/lib/python3.12/site-packages (from requests->huggingface-hub>=0.20.0->sentence-transformers>=0.4.1->bertopic) (2.2.3)\n",
      "Requirement already satisfied: certifi>=2017.4.17 in /home/csgrads/shahr072/anaconda3/lib/python3.12/site-packages (from requests->huggingface-hub>=0.20.0->sentence-transformers>=0.4.1->bertopic) (2024.8.30)\n"
     ]
    }
   ],
   "source": [
    "!pip install bertopic"
   ]
  },
  {
   "cell_type": "code",
   "execution_count": 47,
   "metadata": {},
   "outputs": [
    {
     "name": "stderr",
     "output_type": "stream",
     "text": [
      "2025-04-26 16:51:42,322 - BERTopic - Embedding - Transforming documents to embeddings.\n"
     ]
    },
    {
     "data": {
      "application/vnd.jupyter.widget-view+json": {
       "model_id": "266d8cc786ce41cfb66d901c95d44f95",
       "version_major": 2,
       "version_minor": 0
      },
      "text/plain": [
       "Batches:   0%|          | 0/96 [00:00<?, ?it/s]"
      ]
     },
     "metadata": {},
     "output_type": "display_data"
    },
    {
     "name": "stderr",
     "output_type": "stream",
     "text": [
      "2025-04-26 16:51:44,127 - BERTopic - Embedding - Completed ✓\n",
      "2025-04-26 16:51:44,128 - BERTopic - Dimensionality - Fitting the dimensionality reduction algorithm\n",
      "2025-04-26 16:51:49,765 - BERTopic - Dimensionality - Completed ✓\n",
      "2025-04-26 16:51:49,766 - BERTopic - Cluster - Start clustering the reduced embeddings\n",
      "2025-04-26 16:51:49,947 - BERTopic - Cluster - Completed ✓\n",
      "2025-04-26 16:51:49,950 - BERTopic - Representation - Fine-tuning topics using representation models.\n",
      "2025-04-26 16:51:50,183 - BERTopic - Representation - Completed ✓\n"
     ]
    }
   ],
   "source": [
    "from bertopic import BERTopic\n",
    "import hdbscan\n",
    "\n",
    "week = '2025-08'  # Example week to visualize\n",
    "lda_results = {}\n",
    "docs = combined_by_week[week] # Get the posts for the specified week\n",
    "\n",
    "ngram_range= (2,3) \n",
    "vectorizer = TfidfVectorizer(max_df=0.4, min_df=3, ngram_range=ngram_range,stop_words=list(BIGRAM_STOPWORDS), lowercase=True)\n",
    "\n",
    "# Initialize BERTopic\n",
    "topic_model = BERTopic(language=\"english\", min_topic_size=15, verbose=True, calculate_probabilities=True,top_n_words=10,n_gram_range=(2, 3), vectorizer_model=vectorizer)\n",
    "\n",
    "# Set the HDBSCAN parameters\n",
    "hdbscan_model = hdbscan.HDBSCAN(min_samples=5)  # Require at least 10 points to form a cluster\n",
    "\n",
    "\n",
    "\n",
    "\n",
    "# topic_model = BERTopic(\n",
    "#     #embedding_model=\"all-MiniLM-L6-v2\",    # Transformer model\n",
    "#     min_topic_size=10,                  # Minimum topic size\n",
    "#     n_gram_range=(1, 2),                # Use unigrams and big\n",
    "#     umap_model=None,                        # Use default UMAP settings\n",
    "#     hdbscan_model=hdbscan_model,                     # Use default HDBSCAN\n",
    "#     vectorizer_model=vectorizer,                  # Use default vectorizer\n",
    "#     calculate_probabilities=True,           # Calculate probabilities for topics\n",
    "#     top_n_words=10,                         # Show top 10 words for each topic\n",
    "#     seed_topic_list=None,                   # No seeded topics\n",
    "#     verbose=True\n",
    "# )\n",
    "\n",
    "\n",
    "# Fit model to the text data\n",
    "topics, probabilities = topic_model.fit_transform(docs)"
   ]
  },
  {
   "cell_type": "code",
   "execution_count": 49,
   "metadata": {},
   "outputs": [
    {
     "data": {
      "application/vnd.plotly.v1+json": {
       "config": {
        "plotlyServerURL": "https://plot.ly"
       },
       "data": [
        {
         "marker": {
          "color": "#D55E00"
         },
         "orientation": "h",
         "type": "bar",
         "x": [
          0.04601873706154718,
          0.05166956284434125,
          0.06171813440744967,
          0.07254121776779972,
          0.0988743909569118
         ],
         "xaxis": "x",
         "y": [
          "effective date  ",
          "class action  ",
          "special counsel  ",
          "probationary period  ",
          "deferred resignation  "
         ],
         "yaxis": "y"
        },
        {
         "marker": {
          "color": "#0072B2"
         },
         "orientation": "h",
         "type": "bar",
         "x": [
          0.06072464320975565,
          0.06785032898758571,
          0.0735934139950174,
          0.09357517069699287,
          0.1315310149528806
         ],
         "xaxis": "x2",
         "y": [
          "what last  ",
          "respond opm  ",
          "received opm  ",
          "response opm  ",
          "opm gov  "
         ],
         "yaxis": "y2"
        },
        {
         "marker": {
          "color": "#CC79A7"
         },
         "orientation": "h",
         "type": "bar",
         "x": [
          0.03409229247460838,
          0.0408862110428928,
          0.04102879051477601,
          0.04216259574957554,
          0.04594154896551711
         ],
         "xaxis": "x3",
         "y": [
          "stay strong  ",
          "public servant  ",
          "hold line  ",
          "mental health  ",
          "gov worker  "
         ],
         "yaxis": "y3"
        },
        {
         "marker": {
          "color": "#E69F00"
         },
         "orientation": "h",
         "type": "bar",
         "x": [
          0.04419593370109041,
          0.0565486398679636,
          0.05818264027116484,
          0.06317243119772785,
          0.07656892292750474
         ],
         "xaxis": "x4",
         "y": [
          "real property  ",
          "law enforcement  ",
          "omb opm  ",
          "reduction force  ",
          "rif notice  "
         ],
         "yaxis": "y4"
        },
        {
         "marker": {
          "color": "#56B4E9"
         },
         "orientation": "h",
         "type": "bar",
         "x": [
          0.10013769317433281,
          0.12544368600133077,
          0.127248996001875,
          0.18923122112236768,
          0.3416531271012857
         ],
         "xaxis": "x5",
         "y": [
          "pulse check  ",
          "tell worker  ",
          "ignore musk  ",
          "trump musk  ",
          "elon musk  "
         ],
         "yaxis": "y5"
        },
        {
         "marker": {
          "color": "#009E73"
         },
         "orientation": "h",
         "type": "bar",
         "x": [
          0.09051936708286389,
          0.1079200538034309,
          0.11241144827068326,
          0.11414670462941187,
          0.12788764089805893
         ],
         "xaxis": "x6",
         "y": [
          "hire fire  ",
          "illegal firing  ",
          "illegally fired  ",
          "fired worker  ",
          "fired fed  "
         ],
         "yaxis": "y6"
        },
        {
         "marker": {
          "color": "#F0E442"
         },
         "orientation": "h",
         "type": "bar",
         "x": [
          0.08087494551274003,
          0.12145853396781002,
          0.1239670889529849,
          0.1391062175788619,
          0.18957633254292847
         ],
         "xaxis": "x7",
         "y": [
          "mile away  ",
          "bargaining unit  ",
          "reasonable accommodation  ",
          "duty station  ",
          "remote worker  "
         ],
         "yaxis": "y7"
        },
        {
         "marker": {
          "color": "#D55E00"
         },
         "orientation": "h",
         "type": "bar",
         "x": [
          0.09840690161683827,
          0.12330146405191238,
          0.14585203986922274,
          0.14836471684103048,
          0.19026025778427527
         ],
         "xaxis": "x8",
         "y": [
          "new acting  ",
          "state level  ",
          "sensitive data  ",
          "white house  ",
          "acting administrator  "
         ],
         "yaxis": "y8"
        }
       ],
       "layout": {
        "annotations": [
         {
          "font": {
           "size": 16
          },
          "showarrow": false,
          "text": "Topic 0",
          "x": 0.0875,
          "xanchor": "center",
          "xref": "paper",
          "y": 1,
          "yanchor": "bottom",
          "yref": "paper"
         },
         {
          "font": {
           "size": 16
          },
          "showarrow": false,
          "text": "Topic 1",
          "x": 0.36250000000000004,
          "xanchor": "center",
          "xref": "paper",
          "y": 1,
          "yanchor": "bottom",
          "yref": "paper"
         },
         {
          "font": {
           "size": 16
          },
          "showarrow": false,
          "text": "Topic 2",
          "x": 0.6375000000000001,
          "xanchor": "center",
          "xref": "paper",
          "y": 1,
          "yanchor": "bottom",
          "yref": "paper"
         },
         {
          "font": {
           "size": 16
          },
          "showarrow": false,
          "text": "Topic 3",
          "x": 0.9125,
          "xanchor": "center",
          "xref": "paper",
          "y": 1,
          "yanchor": "bottom",
          "yref": "paper"
         },
         {
          "font": {
           "size": 16
          },
          "showarrow": false,
          "text": "Topic 4",
          "x": 0.0875,
          "xanchor": "center",
          "xref": "paper",
          "y": 0.4,
          "yanchor": "bottom",
          "yref": "paper"
         },
         {
          "font": {
           "size": 16
          },
          "showarrow": false,
          "text": "Topic 5",
          "x": 0.36250000000000004,
          "xanchor": "center",
          "xref": "paper",
          "y": 0.4,
          "yanchor": "bottom",
          "yref": "paper"
         },
         {
          "font": {
           "size": 16
          },
          "showarrow": false,
          "text": "Topic 6",
          "x": 0.6375000000000001,
          "xanchor": "center",
          "xref": "paper",
          "y": 0.4,
          "yanchor": "bottom",
          "yref": "paper"
         },
         {
          "font": {
           "size": 16
          },
          "showarrow": false,
          "text": "Topic 7",
          "x": 0.9125,
          "xanchor": "center",
          "xref": "paper",
          "y": 0.4,
          "yanchor": "bottom",
          "yref": "paper"
         }
        ],
        "height": 500,
        "hoverlabel": {
         "bgcolor": "white",
         "font": {
          "family": "Rockwell",
          "size": 16
         }
        },
        "showlegend": false,
        "template": {
         "data": {
          "bar": [
           {
            "error_x": {
             "color": "#2a3f5f"
            },
            "error_y": {
             "color": "#2a3f5f"
            },
            "marker": {
             "line": {
              "color": "white",
              "width": 0.5
             },
             "pattern": {
              "fillmode": "overlay",
              "size": 10,
              "solidity": 0.2
             }
            },
            "type": "bar"
           }
          ],
          "barpolar": [
           {
            "marker": {
             "line": {
              "color": "white",
              "width": 0.5
             },
             "pattern": {
              "fillmode": "overlay",
              "size": 10,
              "solidity": 0.2
             }
            },
            "type": "barpolar"
           }
          ],
          "carpet": [
           {
            "aaxis": {
             "endlinecolor": "#2a3f5f",
             "gridcolor": "#C8D4E3",
             "linecolor": "#C8D4E3",
             "minorgridcolor": "#C8D4E3",
             "startlinecolor": "#2a3f5f"
            },
            "baxis": {
             "endlinecolor": "#2a3f5f",
             "gridcolor": "#C8D4E3",
             "linecolor": "#C8D4E3",
             "minorgridcolor": "#C8D4E3",
             "startlinecolor": "#2a3f5f"
            },
            "type": "carpet"
           }
          ],
          "choropleth": [
           {
            "colorbar": {
             "outlinewidth": 0,
             "ticks": ""
            },
            "type": "choropleth"
           }
          ],
          "contour": [
           {
            "colorbar": {
             "outlinewidth": 0,
             "ticks": ""
            },
            "colorscale": [
             [
              0,
              "#0d0887"
             ],
             [
              0.1111111111111111,
              "#46039f"
             ],
             [
              0.2222222222222222,
              "#7201a8"
             ],
             [
              0.3333333333333333,
              "#9c179e"
             ],
             [
              0.4444444444444444,
              "#bd3786"
             ],
             [
              0.5555555555555556,
              "#d8576b"
             ],
             [
              0.6666666666666666,
              "#ed7953"
             ],
             [
              0.7777777777777778,
              "#fb9f3a"
             ],
             [
              0.8888888888888888,
              "#fdca26"
             ],
             [
              1,
              "#f0f921"
             ]
            ],
            "type": "contour"
           }
          ],
          "contourcarpet": [
           {
            "colorbar": {
             "outlinewidth": 0,
             "ticks": ""
            },
            "type": "contourcarpet"
           }
          ],
          "heatmap": [
           {
            "colorbar": {
             "outlinewidth": 0,
             "ticks": ""
            },
            "colorscale": [
             [
              0,
              "#0d0887"
             ],
             [
              0.1111111111111111,
              "#46039f"
             ],
             [
              0.2222222222222222,
              "#7201a8"
             ],
             [
              0.3333333333333333,
              "#9c179e"
             ],
             [
              0.4444444444444444,
              "#bd3786"
             ],
             [
              0.5555555555555556,
              "#d8576b"
             ],
             [
              0.6666666666666666,
              "#ed7953"
             ],
             [
              0.7777777777777778,
              "#fb9f3a"
             ],
             [
              0.8888888888888888,
              "#fdca26"
             ],
             [
              1,
              "#f0f921"
             ]
            ],
            "type": "heatmap"
           }
          ],
          "heatmapgl": [
           {
            "colorbar": {
             "outlinewidth": 0,
             "ticks": ""
            },
            "colorscale": [
             [
              0,
              "#0d0887"
             ],
             [
              0.1111111111111111,
              "#46039f"
             ],
             [
              0.2222222222222222,
              "#7201a8"
             ],
             [
              0.3333333333333333,
              "#9c179e"
             ],
             [
              0.4444444444444444,
              "#bd3786"
             ],
             [
              0.5555555555555556,
              "#d8576b"
             ],
             [
              0.6666666666666666,
              "#ed7953"
             ],
             [
              0.7777777777777778,
              "#fb9f3a"
             ],
             [
              0.8888888888888888,
              "#fdca26"
             ],
             [
              1,
              "#f0f921"
             ]
            ],
            "type": "heatmapgl"
           }
          ],
          "histogram": [
           {
            "marker": {
             "pattern": {
              "fillmode": "overlay",
              "size": 10,
              "solidity": 0.2
             }
            },
            "type": "histogram"
           }
          ],
          "histogram2d": [
           {
            "colorbar": {
             "outlinewidth": 0,
             "ticks": ""
            },
            "colorscale": [
             [
              0,
              "#0d0887"
             ],
             [
              0.1111111111111111,
              "#46039f"
             ],
             [
              0.2222222222222222,
              "#7201a8"
             ],
             [
              0.3333333333333333,
              "#9c179e"
             ],
             [
              0.4444444444444444,
              "#bd3786"
             ],
             [
              0.5555555555555556,
              "#d8576b"
             ],
             [
              0.6666666666666666,
              "#ed7953"
             ],
             [
              0.7777777777777778,
              "#fb9f3a"
             ],
             [
              0.8888888888888888,
              "#fdca26"
             ],
             [
              1,
              "#f0f921"
             ]
            ],
            "type": "histogram2d"
           }
          ],
          "histogram2dcontour": [
           {
            "colorbar": {
             "outlinewidth": 0,
             "ticks": ""
            },
            "colorscale": [
             [
              0,
              "#0d0887"
             ],
             [
              0.1111111111111111,
              "#46039f"
             ],
             [
              0.2222222222222222,
              "#7201a8"
             ],
             [
              0.3333333333333333,
              "#9c179e"
             ],
             [
              0.4444444444444444,
              "#bd3786"
             ],
             [
              0.5555555555555556,
              "#d8576b"
             ],
             [
              0.6666666666666666,
              "#ed7953"
             ],
             [
              0.7777777777777778,
              "#fb9f3a"
             ],
             [
              0.8888888888888888,
              "#fdca26"
             ],
             [
              1,
              "#f0f921"
             ]
            ],
            "type": "histogram2dcontour"
           }
          ],
          "mesh3d": [
           {
            "colorbar": {
             "outlinewidth": 0,
             "ticks": ""
            },
            "type": "mesh3d"
           }
          ],
          "parcoords": [
           {
            "line": {
             "colorbar": {
              "outlinewidth": 0,
              "ticks": ""
             }
            },
            "type": "parcoords"
           }
          ],
          "pie": [
           {
            "automargin": true,
            "type": "pie"
           }
          ],
          "scatter": [
           {
            "fillpattern": {
             "fillmode": "overlay",
             "size": 10,
             "solidity": 0.2
            },
            "type": "scatter"
           }
          ],
          "scatter3d": [
           {
            "line": {
             "colorbar": {
              "outlinewidth": 0,
              "ticks": ""
             }
            },
            "marker": {
             "colorbar": {
              "outlinewidth": 0,
              "ticks": ""
             }
            },
            "type": "scatter3d"
           }
          ],
          "scattercarpet": [
           {
            "marker": {
             "colorbar": {
              "outlinewidth": 0,
              "ticks": ""
             }
            },
            "type": "scattercarpet"
           }
          ],
          "scattergeo": [
           {
            "marker": {
             "colorbar": {
              "outlinewidth": 0,
              "ticks": ""
             }
            },
            "type": "scattergeo"
           }
          ],
          "scattergl": [
           {
            "marker": {
             "colorbar": {
              "outlinewidth": 0,
              "ticks": ""
             }
            },
            "type": "scattergl"
           }
          ],
          "scattermapbox": [
           {
            "marker": {
             "colorbar": {
              "outlinewidth": 0,
              "ticks": ""
             }
            },
            "type": "scattermapbox"
           }
          ],
          "scatterpolar": [
           {
            "marker": {
             "colorbar": {
              "outlinewidth": 0,
              "ticks": ""
             }
            },
            "type": "scatterpolar"
           }
          ],
          "scatterpolargl": [
           {
            "marker": {
             "colorbar": {
              "outlinewidth": 0,
              "ticks": ""
             }
            },
            "type": "scatterpolargl"
           }
          ],
          "scatterternary": [
           {
            "marker": {
             "colorbar": {
              "outlinewidth": 0,
              "ticks": ""
             }
            },
            "type": "scatterternary"
           }
          ],
          "surface": [
           {
            "colorbar": {
             "outlinewidth": 0,
             "ticks": ""
            },
            "colorscale": [
             [
              0,
              "#0d0887"
             ],
             [
              0.1111111111111111,
              "#46039f"
             ],
             [
              0.2222222222222222,
              "#7201a8"
             ],
             [
              0.3333333333333333,
              "#9c179e"
             ],
             [
              0.4444444444444444,
              "#bd3786"
             ],
             [
              0.5555555555555556,
              "#d8576b"
             ],
             [
              0.6666666666666666,
              "#ed7953"
             ],
             [
              0.7777777777777778,
              "#fb9f3a"
             ],
             [
              0.8888888888888888,
              "#fdca26"
             ],
             [
              1,
              "#f0f921"
             ]
            ],
            "type": "surface"
           }
          ],
          "table": [
           {
            "cells": {
             "fill": {
              "color": "#EBF0F8"
             },
             "line": {
              "color": "white"
             }
            },
            "header": {
             "fill": {
              "color": "#C8D4E3"
             },
             "line": {
              "color": "white"
             }
            },
            "type": "table"
           }
          ]
         },
         "layout": {
          "annotationdefaults": {
           "arrowcolor": "#2a3f5f",
           "arrowhead": 0,
           "arrowwidth": 1
          },
          "autotypenumbers": "strict",
          "coloraxis": {
           "colorbar": {
            "outlinewidth": 0,
            "ticks": ""
           }
          },
          "colorscale": {
           "diverging": [
            [
             0,
             "#8e0152"
            ],
            [
             0.1,
             "#c51b7d"
            ],
            [
             0.2,
             "#de77ae"
            ],
            [
             0.3,
             "#f1b6da"
            ],
            [
             0.4,
             "#fde0ef"
            ],
            [
             0.5,
             "#f7f7f7"
            ],
            [
             0.6,
             "#e6f5d0"
            ],
            [
             0.7,
             "#b8e186"
            ],
            [
             0.8,
             "#7fbc41"
            ],
            [
             0.9,
             "#4d9221"
            ],
            [
             1,
             "#276419"
            ]
           ],
           "sequential": [
            [
             0,
             "#0d0887"
            ],
            [
             0.1111111111111111,
             "#46039f"
            ],
            [
             0.2222222222222222,
             "#7201a8"
            ],
            [
             0.3333333333333333,
             "#9c179e"
            ],
            [
             0.4444444444444444,
             "#bd3786"
            ],
            [
             0.5555555555555556,
             "#d8576b"
            ],
            [
             0.6666666666666666,
             "#ed7953"
            ],
            [
             0.7777777777777778,
             "#fb9f3a"
            ],
            [
             0.8888888888888888,
             "#fdca26"
            ],
            [
             1,
             "#f0f921"
            ]
           ],
           "sequentialminus": [
            [
             0,
             "#0d0887"
            ],
            [
             0.1111111111111111,
             "#46039f"
            ],
            [
             0.2222222222222222,
             "#7201a8"
            ],
            [
             0.3333333333333333,
             "#9c179e"
            ],
            [
             0.4444444444444444,
             "#bd3786"
            ],
            [
             0.5555555555555556,
             "#d8576b"
            ],
            [
             0.6666666666666666,
             "#ed7953"
            ],
            [
             0.7777777777777778,
             "#fb9f3a"
            ],
            [
             0.8888888888888888,
             "#fdca26"
            ],
            [
             1,
             "#f0f921"
            ]
           ]
          },
          "colorway": [
           "#636efa",
           "#EF553B",
           "#00cc96",
           "#ab63fa",
           "#FFA15A",
           "#19d3f3",
           "#FF6692",
           "#B6E880",
           "#FF97FF",
           "#FECB52"
          ],
          "font": {
           "color": "#2a3f5f"
          },
          "geo": {
           "bgcolor": "white",
           "lakecolor": "white",
           "landcolor": "white",
           "showlakes": true,
           "showland": true,
           "subunitcolor": "#C8D4E3"
          },
          "hoverlabel": {
           "align": "left"
          },
          "hovermode": "closest",
          "mapbox": {
           "style": "light"
          },
          "paper_bgcolor": "white",
          "plot_bgcolor": "white",
          "polar": {
           "angularaxis": {
            "gridcolor": "#EBF0F8",
            "linecolor": "#EBF0F8",
            "ticks": ""
           },
           "bgcolor": "white",
           "radialaxis": {
            "gridcolor": "#EBF0F8",
            "linecolor": "#EBF0F8",
            "ticks": ""
           }
          },
          "scene": {
           "xaxis": {
            "backgroundcolor": "white",
            "gridcolor": "#DFE8F3",
            "gridwidth": 2,
            "linecolor": "#EBF0F8",
            "showbackground": true,
            "ticks": "",
            "zerolinecolor": "#EBF0F8"
           },
           "yaxis": {
            "backgroundcolor": "white",
            "gridcolor": "#DFE8F3",
            "gridwidth": 2,
            "linecolor": "#EBF0F8",
            "showbackground": true,
            "ticks": "",
            "zerolinecolor": "#EBF0F8"
           },
           "zaxis": {
            "backgroundcolor": "white",
            "gridcolor": "#DFE8F3",
            "gridwidth": 2,
            "linecolor": "#EBF0F8",
            "showbackground": true,
            "ticks": "",
            "zerolinecolor": "#EBF0F8"
           }
          },
          "shapedefaults": {
           "line": {
            "color": "#2a3f5f"
           }
          },
          "ternary": {
           "aaxis": {
            "gridcolor": "#DFE8F3",
            "linecolor": "#A2B1C6",
            "ticks": ""
           },
           "baxis": {
            "gridcolor": "#DFE8F3",
            "linecolor": "#A2B1C6",
            "ticks": ""
           },
           "bgcolor": "white",
           "caxis": {
            "gridcolor": "#DFE8F3",
            "linecolor": "#A2B1C6",
            "ticks": ""
           }
          },
          "title": {
           "x": 0.05
          },
          "xaxis": {
           "automargin": true,
           "gridcolor": "#EBF0F8",
           "linecolor": "#EBF0F8",
           "ticks": "",
           "title": {
            "standoff": 15
           },
           "zerolinecolor": "#EBF0F8",
           "zerolinewidth": 2
          },
          "yaxis": {
           "automargin": true,
           "gridcolor": "#EBF0F8",
           "linecolor": "#EBF0F8",
           "ticks": "",
           "title": {
            "standoff": 15
           },
           "zerolinecolor": "#EBF0F8",
           "zerolinewidth": 2
          }
         }
        },
        "title": {
         "font": {
          "color": "Black",
          "size": 22
         },
         "text": "Topic Word Scores",
         "x": 0.5,
         "xanchor": "center",
         "yanchor": "top"
        },
        "width": 1000,
        "xaxis": {
         "anchor": "y",
         "domain": [
          0,
          0.175
         ],
         "showgrid": true
        },
        "xaxis2": {
         "anchor": "y2",
         "domain": [
          0.275,
          0.45
         ],
         "showgrid": true
        },
        "xaxis3": {
         "anchor": "y3",
         "domain": [
          0.55,
          0.7250000000000001
         ],
         "showgrid": true
        },
        "xaxis4": {
         "anchor": "y4",
         "domain": [
          0.825,
          1
         ],
         "showgrid": true
        },
        "xaxis5": {
         "anchor": "y5",
         "domain": [
          0,
          0.175
         ],
         "showgrid": true
        },
        "xaxis6": {
         "anchor": "y6",
         "domain": [
          0.275,
          0.45
         ],
         "showgrid": true
        },
        "xaxis7": {
         "anchor": "y7",
         "domain": [
          0.55,
          0.7250000000000001
         ],
         "showgrid": true
        },
        "xaxis8": {
         "anchor": "y8",
         "domain": [
          0.825,
          1
         ],
         "showgrid": true
        },
        "yaxis": {
         "anchor": "x",
         "domain": [
          0.6000000000000001,
          1
         ],
         "showgrid": true
        },
        "yaxis2": {
         "anchor": "x2",
         "domain": [
          0.6000000000000001,
          1
         ],
         "showgrid": true
        },
        "yaxis3": {
         "anchor": "x3",
         "domain": [
          0.6000000000000001,
          1
         ],
         "showgrid": true
        },
        "yaxis4": {
         "anchor": "x4",
         "domain": [
          0.6000000000000001,
          1
         ],
         "showgrid": true
        },
        "yaxis5": {
         "anchor": "x5",
         "domain": [
          0,
          0.4
         ],
         "showgrid": true
        },
        "yaxis6": {
         "anchor": "x6",
         "domain": [
          0,
          0.4
         ],
         "showgrid": true
        },
        "yaxis7": {
         "anchor": "x7",
         "domain": [
          0,
          0.4
         ],
         "showgrid": true
        },
        "yaxis8": {
         "anchor": "x8",
         "domain": [
          0,
          0.4
         ],
         "showgrid": true
        }
       }
      },
      "text/html": [
       "<div>                            <div id=\"ea4fab31-c973-4065-81c4-da83b6952802\" class=\"plotly-graph-div\" style=\"height:500px; width:1000px;\"></div>            <script type=\"text/javascript\">                require([\"plotly\"], function(Plotly) {                    window.PLOTLYENV=window.PLOTLYENV || {};                                    if (document.getElementById(\"ea4fab31-c973-4065-81c4-da83b6952802\")) {                    Plotly.newPlot(                        \"ea4fab31-c973-4065-81c4-da83b6952802\",                        [{\"marker\":{\"color\":\"#D55E00\"},\"orientation\":\"h\",\"x\":[0.04601873706154718,0.05166956284434125,0.06171813440744967,0.07254121776779972,0.0988743909569118],\"y\":[\"effective date  \",\"class action  \",\"special counsel  \",\"probationary period  \",\"deferred resignation  \"],\"type\":\"bar\",\"xaxis\":\"x\",\"yaxis\":\"y\"},{\"marker\":{\"color\":\"#0072B2\"},\"orientation\":\"h\",\"x\":[0.06072464320975565,0.06785032898758571,0.0735934139950174,0.09357517069699287,0.1315310149528806],\"y\":[\"what last  \",\"respond opm  \",\"received opm  \",\"response opm  \",\"opm gov  \"],\"type\":\"bar\",\"xaxis\":\"x2\",\"yaxis\":\"y2\"},{\"marker\":{\"color\":\"#CC79A7\"},\"orientation\":\"h\",\"x\":[0.03409229247460838,0.0408862110428928,0.04102879051477601,0.04216259574957554,0.04594154896551711],\"y\":[\"stay strong  \",\"public servant  \",\"hold line  \",\"mental health  \",\"gov worker  \"],\"type\":\"bar\",\"xaxis\":\"x3\",\"yaxis\":\"y3\"},{\"marker\":{\"color\":\"#E69F00\"},\"orientation\":\"h\",\"x\":[0.04419593370109041,0.0565486398679636,0.05818264027116484,0.06317243119772785,0.07656892292750474],\"y\":[\"real property  \",\"law enforcement  \",\"omb opm  \",\"reduction force  \",\"rif notice  \"],\"type\":\"bar\",\"xaxis\":\"x4\",\"yaxis\":\"y4\"},{\"marker\":{\"color\":\"#56B4E9\"},\"orientation\":\"h\",\"x\":[0.10013769317433281,0.12544368600133077,0.127248996001875,0.18923122112236768,0.3416531271012857],\"y\":[\"pulse check  \",\"tell worker  \",\"ignore musk  \",\"trump musk  \",\"elon musk  \"],\"type\":\"bar\",\"xaxis\":\"x5\",\"yaxis\":\"y5\"},{\"marker\":{\"color\":\"#009E73\"},\"orientation\":\"h\",\"x\":[0.09051936708286389,0.1079200538034309,0.11241144827068326,0.11414670462941187,0.12788764089805893],\"y\":[\"hire fire  \",\"illegal firing  \",\"illegally fired  \",\"fired worker  \",\"fired fed  \"],\"type\":\"bar\",\"xaxis\":\"x6\",\"yaxis\":\"y6\"},{\"marker\":{\"color\":\"#F0E442\"},\"orientation\":\"h\",\"x\":[0.08087494551274003,0.12145853396781002,0.1239670889529849,0.1391062175788619,0.18957633254292847],\"y\":[\"mile away  \",\"bargaining unit  \",\"reasonable accommodation  \",\"duty station  \",\"remote worker  \"],\"type\":\"bar\",\"xaxis\":\"x7\",\"yaxis\":\"y7\"},{\"marker\":{\"color\":\"#D55E00\"},\"orientation\":\"h\",\"x\":[0.09840690161683827,0.12330146405191238,0.14585203986922274,0.14836471684103048,0.19026025778427527],\"y\":[\"new acting  \",\"state level  \",\"sensitive data  \",\"white house  \",\"acting administrator  \"],\"type\":\"bar\",\"xaxis\":\"x8\",\"yaxis\":\"y8\"}],                        {\"template\":{\"data\":{\"barpolar\":[{\"marker\":{\"line\":{\"color\":\"white\",\"width\":0.5},\"pattern\":{\"fillmode\":\"overlay\",\"size\":10,\"solidity\":0.2}},\"type\":\"barpolar\"}],\"bar\":[{\"error_x\":{\"color\":\"#2a3f5f\"},\"error_y\":{\"color\":\"#2a3f5f\"},\"marker\":{\"line\":{\"color\":\"white\",\"width\":0.5},\"pattern\":{\"fillmode\":\"overlay\",\"size\":10,\"solidity\":0.2}},\"type\":\"bar\"}],\"carpet\":[{\"aaxis\":{\"endlinecolor\":\"#2a3f5f\",\"gridcolor\":\"#C8D4E3\",\"linecolor\":\"#C8D4E3\",\"minorgridcolor\":\"#C8D4E3\",\"startlinecolor\":\"#2a3f5f\"},\"baxis\":{\"endlinecolor\":\"#2a3f5f\",\"gridcolor\":\"#C8D4E3\",\"linecolor\":\"#C8D4E3\",\"minorgridcolor\":\"#C8D4E3\",\"startlinecolor\":\"#2a3f5f\"},\"type\":\"carpet\"}],\"choropleth\":[{\"colorbar\":{\"outlinewidth\":0,\"ticks\":\"\"},\"type\":\"choropleth\"}],\"contourcarpet\":[{\"colorbar\":{\"outlinewidth\":0,\"ticks\":\"\"},\"type\":\"contourcarpet\"}],\"contour\":[{\"colorbar\":{\"outlinewidth\":0,\"ticks\":\"\"},\"colorscale\":[[0.0,\"#0d0887\"],[0.1111111111111111,\"#46039f\"],[0.2222222222222222,\"#7201a8\"],[0.3333333333333333,\"#9c179e\"],[0.4444444444444444,\"#bd3786\"],[0.5555555555555556,\"#d8576b\"],[0.6666666666666666,\"#ed7953\"],[0.7777777777777778,\"#fb9f3a\"],[0.8888888888888888,\"#fdca26\"],[1.0,\"#f0f921\"]],\"type\":\"contour\"}],\"heatmapgl\":[{\"colorbar\":{\"outlinewidth\":0,\"ticks\":\"\"},\"colorscale\":[[0.0,\"#0d0887\"],[0.1111111111111111,\"#46039f\"],[0.2222222222222222,\"#7201a8\"],[0.3333333333333333,\"#9c179e\"],[0.4444444444444444,\"#bd3786\"],[0.5555555555555556,\"#d8576b\"],[0.6666666666666666,\"#ed7953\"],[0.7777777777777778,\"#fb9f3a\"],[0.8888888888888888,\"#fdca26\"],[1.0,\"#f0f921\"]],\"type\":\"heatmapgl\"}],\"heatmap\":[{\"colorbar\":{\"outlinewidth\":0,\"ticks\":\"\"},\"colorscale\":[[0.0,\"#0d0887\"],[0.1111111111111111,\"#46039f\"],[0.2222222222222222,\"#7201a8\"],[0.3333333333333333,\"#9c179e\"],[0.4444444444444444,\"#bd3786\"],[0.5555555555555556,\"#d8576b\"],[0.6666666666666666,\"#ed7953\"],[0.7777777777777778,\"#fb9f3a\"],[0.8888888888888888,\"#fdca26\"],[1.0,\"#f0f921\"]],\"type\":\"heatmap\"}],\"histogram2dcontour\":[{\"colorbar\":{\"outlinewidth\":0,\"ticks\":\"\"},\"colorscale\":[[0.0,\"#0d0887\"],[0.1111111111111111,\"#46039f\"],[0.2222222222222222,\"#7201a8\"],[0.3333333333333333,\"#9c179e\"],[0.4444444444444444,\"#bd3786\"],[0.5555555555555556,\"#d8576b\"],[0.6666666666666666,\"#ed7953\"],[0.7777777777777778,\"#fb9f3a\"],[0.8888888888888888,\"#fdca26\"],[1.0,\"#f0f921\"]],\"type\":\"histogram2dcontour\"}],\"histogram2d\":[{\"colorbar\":{\"outlinewidth\":0,\"ticks\":\"\"},\"colorscale\":[[0.0,\"#0d0887\"],[0.1111111111111111,\"#46039f\"],[0.2222222222222222,\"#7201a8\"],[0.3333333333333333,\"#9c179e\"],[0.4444444444444444,\"#bd3786\"],[0.5555555555555556,\"#d8576b\"],[0.6666666666666666,\"#ed7953\"],[0.7777777777777778,\"#fb9f3a\"],[0.8888888888888888,\"#fdca26\"],[1.0,\"#f0f921\"]],\"type\":\"histogram2d\"}],\"histogram\":[{\"marker\":{\"pattern\":{\"fillmode\":\"overlay\",\"size\":10,\"solidity\":0.2}},\"type\":\"histogram\"}],\"mesh3d\":[{\"colorbar\":{\"outlinewidth\":0,\"ticks\":\"\"},\"type\":\"mesh3d\"}],\"parcoords\":[{\"line\":{\"colorbar\":{\"outlinewidth\":0,\"ticks\":\"\"}},\"type\":\"parcoords\"}],\"pie\":[{\"automargin\":true,\"type\":\"pie\"}],\"scatter3d\":[{\"line\":{\"colorbar\":{\"outlinewidth\":0,\"ticks\":\"\"}},\"marker\":{\"colorbar\":{\"outlinewidth\":0,\"ticks\":\"\"}},\"type\":\"scatter3d\"}],\"scattercarpet\":[{\"marker\":{\"colorbar\":{\"outlinewidth\":0,\"ticks\":\"\"}},\"type\":\"scattercarpet\"}],\"scattergeo\":[{\"marker\":{\"colorbar\":{\"outlinewidth\":0,\"ticks\":\"\"}},\"type\":\"scattergeo\"}],\"scattergl\":[{\"marker\":{\"colorbar\":{\"outlinewidth\":0,\"ticks\":\"\"}},\"type\":\"scattergl\"}],\"scattermapbox\":[{\"marker\":{\"colorbar\":{\"outlinewidth\":0,\"ticks\":\"\"}},\"type\":\"scattermapbox\"}],\"scatterpolargl\":[{\"marker\":{\"colorbar\":{\"outlinewidth\":0,\"ticks\":\"\"}},\"type\":\"scatterpolargl\"}],\"scatterpolar\":[{\"marker\":{\"colorbar\":{\"outlinewidth\":0,\"ticks\":\"\"}},\"type\":\"scatterpolar\"}],\"scatter\":[{\"fillpattern\":{\"fillmode\":\"overlay\",\"size\":10,\"solidity\":0.2},\"type\":\"scatter\"}],\"scatterternary\":[{\"marker\":{\"colorbar\":{\"outlinewidth\":0,\"ticks\":\"\"}},\"type\":\"scatterternary\"}],\"surface\":[{\"colorbar\":{\"outlinewidth\":0,\"ticks\":\"\"},\"colorscale\":[[0.0,\"#0d0887\"],[0.1111111111111111,\"#46039f\"],[0.2222222222222222,\"#7201a8\"],[0.3333333333333333,\"#9c179e\"],[0.4444444444444444,\"#bd3786\"],[0.5555555555555556,\"#d8576b\"],[0.6666666666666666,\"#ed7953\"],[0.7777777777777778,\"#fb9f3a\"],[0.8888888888888888,\"#fdca26\"],[1.0,\"#f0f921\"]],\"type\":\"surface\"}],\"table\":[{\"cells\":{\"fill\":{\"color\":\"#EBF0F8\"},\"line\":{\"color\":\"white\"}},\"header\":{\"fill\":{\"color\":\"#C8D4E3\"},\"line\":{\"color\":\"white\"}},\"type\":\"table\"}]},\"layout\":{\"annotationdefaults\":{\"arrowcolor\":\"#2a3f5f\",\"arrowhead\":0,\"arrowwidth\":1},\"autotypenumbers\":\"strict\",\"coloraxis\":{\"colorbar\":{\"outlinewidth\":0,\"ticks\":\"\"}},\"colorscale\":{\"diverging\":[[0,\"#8e0152\"],[0.1,\"#c51b7d\"],[0.2,\"#de77ae\"],[0.3,\"#f1b6da\"],[0.4,\"#fde0ef\"],[0.5,\"#f7f7f7\"],[0.6,\"#e6f5d0\"],[0.7,\"#b8e186\"],[0.8,\"#7fbc41\"],[0.9,\"#4d9221\"],[1,\"#276419\"]],\"sequential\":[[0.0,\"#0d0887\"],[0.1111111111111111,\"#46039f\"],[0.2222222222222222,\"#7201a8\"],[0.3333333333333333,\"#9c179e\"],[0.4444444444444444,\"#bd3786\"],[0.5555555555555556,\"#d8576b\"],[0.6666666666666666,\"#ed7953\"],[0.7777777777777778,\"#fb9f3a\"],[0.8888888888888888,\"#fdca26\"],[1.0,\"#f0f921\"]],\"sequentialminus\":[[0.0,\"#0d0887\"],[0.1111111111111111,\"#46039f\"],[0.2222222222222222,\"#7201a8\"],[0.3333333333333333,\"#9c179e\"],[0.4444444444444444,\"#bd3786\"],[0.5555555555555556,\"#d8576b\"],[0.6666666666666666,\"#ed7953\"],[0.7777777777777778,\"#fb9f3a\"],[0.8888888888888888,\"#fdca26\"],[1.0,\"#f0f921\"]]},\"colorway\":[\"#636efa\",\"#EF553B\",\"#00cc96\",\"#ab63fa\",\"#FFA15A\",\"#19d3f3\",\"#FF6692\",\"#B6E880\",\"#FF97FF\",\"#FECB52\"],\"font\":{\"color\":\"#2a3f5f\"},\"geo\":{\"bgcolor\":\"white\",\"lakecolor\":\"white\",\"landcolor\":\"white\",\"showlakes\":true,\"showland\":true,\"subunitcolor\":\"#C8D4E3\"},\"hoverlabel\":{\"align\":\"left\"},\"hovermode\":\"closest\",\"mapbox\":{\"style\":\"light\"},\"paper_bgcolor\":\"white\",\"plot_bgcolor\":\"white\",\"polar\":{\"angularaxis\":{\"gridcolor\":\"#EBF0F8\",\"linecolor\":\"#EBF0F8\",\"ticks\":\"\"},\"bgcolor\":\"white\",\"radialaxis\":{\"gridcolor\":\"#EBF0F8\",\"linecolor\":\"#EBF0F8\",\"ticks\":\"\"}},\"scene\":{\"xaxis\":{\"backgroundcolor\":\"white\",\"gridcolor\":\"#DFE8F3\",\"gridwidth\":2,\"linecolor\":\"#EBF0F8\",\"showbackground\":true,\"ticks\":\"\",\"zerolinecolor\":\"#EBF0F8\"},\"yaxis\":{\"backgroundcolor\":\"white\",\"gridcolor\":\"#DFE8F3\",\"gridwidth\":2,\"linecolor\":\"#EBF0F8\",\"showbackground\":true,\"ticks\":\"\",\"zerolinecolor\":\"#EBF0F8\"},\"zaxis\":{\"backgroundcolor\":\"white\",\"gridcolor\":\"#DFE8F3\",\"gridwidth\":2,\"linecolor\":\"#EBF0F8\",\"showbackground\":true,\"ticks\":\"\",\"zerolinecolor\":\"#EBF0F8\"}},\"shapedefaults\":{\"line\":{\"color\":\"#2a3f5f\"}},\"ternary\":{\"aaxis\":{\"gridcolor\":\"#DFE8F3\",\"linecolor\":\"#A2B1C6\",\"ticks\":\"\"},\"baxis\":{\"gridcolor\":\"#DFE8F3\",\"linecolor\":\"#A2B1C6\",\"ticks\":\"\"},\"bgcolor\":\"white\",\"caxis\":{\"gridcolor\":\"#DFE8F3\",\"linecolor\":\"#A2B1C6\",\"ticks\":\"\"}},\"title\":{\"x\":0.05},\"xaxis\":{\"automargin\":true,\"gridcolor\":\"#EBF0F8\",\"linecolor\":\"#EBF0F8\",\"ticks\":\"\",\"title\":{\"standoff\":15},\"zerolinecolor\":\"#EBF0F8\",\"zerolinewidth\":2},\"yaxis\":{\"automargin\":true,\"gridcolor\":\"#EBF0F8\",\"linecolor\":\"#EBF0F8\",\"ticks\":\"\",\"title\":{\"standoff\":15},\"zerolinecolor\":\"#EBF0F8\",\"zerolinewidth\":2}}},\"xaxis\":{\"anchor\":\"y\",\"domain\":[0.0,0.175],\"showgrid\":true},\"yaxis\":{\"anchor\":\"x\",\"domain\":[0.6000000000000001,1.0],\"showgrid\":true},\"xaxis2\":{\"anchor\":\"y2\",\"domain\":[0.275,0.45],\"showgrid\":true},\"yaxis2\":{\"anchor\":\"x2\",\"domain\":[0.6000000000000001,1.0],\"showgrid\":true},\"xaxis3\":{\"anchor\":\"y3\",\"domain\":[0.55,0.7250000000000001],\"showgrid\":true},\"yaxis3\":{\"anchor\":\"x3\",\"domain\":[0.6000000000000001,1.0],\"showgrid\":true},\"xaxis4\":{\"anchor\":\"y4\",\"domain\":[0.825,1.0],\"showgrid\":true},\"yaxis4\":{\"anchor\":\"x4\",\"domain\":[0.6000000000000001,1.0],\"showgrid\":true},\"xaxis5\":{\"anchor\":\"y5\",\"domain\":[0.0,0.175],\"showgrid\":true},\"yaxis5\":{\"anchor\":\"x5\",\"domain\":[0.0,0.4],\"showgrid\":true},\"xaxis6\":{\"anchor\":\"y6\",\"domain\":[0.275,0.45],\"showgrid\":true},\"yaxis6\":{\"anchor\":\"x6\",\"domain\":[0.0,0.4],\"showgrid\":true},\"xaxis7\":{\"anchor\":\"y7\",\"domain\":[0.55,0.7250000000000001],\"showgrid\":true},\"yaxis7\":{\"anchor\":\"x7\",\"domain\":[0.0,0.4],\"showgrid\":true},\"xaxis8\":{\"anchor\":\"y8\",\"domain\":[0.825,1.0],\"showgrid\":true},\"yaxis8\":{\"anchor\":\"x8\",\"domain\":[0.0,0.4],\"showgrid\":true},\"annotations\":[{\"font\":{\"size\":16},\"showarrow\":false,\"text\":\"Topic 0\",\"x\":0.0875,\"xanchor\":\"center\",\"xref\":\"paper\",\"y\":1.0,\"yanchor\":\"bottom\",\"yref\":\"paper\"},{\"font\":{\"size\":16},\"showarrow\":false,\"text\":\"Topic 1\",\"x\":0.36250000000000004,\"xanchor\":\"center\",\"xref\":\"paper\",\"y\":1.0,\"yanchor\":\"bottom\",\"yref\":\"paper\"},{\"font\":{\"size\":16},\"showarrow\":false,\"text\":\"Topic 2\",\"x\":0.6375000000000001,\"xanchor\":\"center\",\"xref\":\"paper\",\"y\":1.0,\"yanchor\":\"bottom\",\"yref\":\"paper\"},{\"font\":{\"size\":16},\"showarrow\":false,\"text\":\"Topic 3\",\"x\":0.9125,\"xanchor\":\"center\",\"xref\":\"paper\",\"y\":1.0,\"yanchor\":\"bottom\",\"yref\":\"paper\"},{\"font\":{\"size\":16},\"showarrow\":false,\"text\":\"Topic 4\",\"x\":0.0875,\"xanchor\":\"center\",\"xref\":\"paper\",\"y\":0.4,\"yanchor\":\"bottom\",\"yref\":\"paper\"},{\"font\":{\"size\":16},\"showarrow\":false,\"text\":\"Topic 5\",\"x\":0.36250000000000004,\"xanchor\":\"center\",\"xref\":\"paper\",\"y\":0.4,\"yanchor\":\"bottom\",\"yref\":\"paper\"},{\"font\":{\"size\":16},\"showarrow\":false,\"text\":\"Topic 6\",\"x\":0.6375000000000001,\"xanchor\":\"center\",\"xref\":\"paper\",\"y\":0.4,\"yanchor\":\"bottom\",\"yref\":\"paper\"},{\"font\":{\"size\":16},\"showarrow\":false,\"text\":\"Topic 7\",\"x\":0.9125,\"xanchor\":\"center\",\"xref\":\"paper\",\"y\":0.4,\"yanchor\":\"bottom\",\"yref\":\"paper\"}],\"title\":{\"font\":{\"size\":22,\"color\":\"Black\"},\"text\":\"Topic Word Scores\",\"x\":0.5,\"xanchor\":\"center\",\"yanchor\":\"top\"},\"hoverlabel\":{\"font\":{\"size\":16,\"family\":\"Rockwell\"},\"bgcolor\":\"white\"},\"showlegend\":false,\"width\":1000,\"height\":500},                        {\"responsive\": true}                    ).then(function(){\n",
       "                            \n",
       "var gd = document.getElementById('ea4fab31-c973-4065-81c4-da83b6952802');\n",
       "var x = new MutationObserver(function (mutations, observer) {{\n",
       "        var display = window.getComputedStyle(gd).display;\n",
       "        if (!display || display === 'none') {{\n",
       "            console.log([gd, 'removed!']);\n",
       "            Plotly.purge(gd);\n",
       "            observer.disconnect();\n",
       "        }}\n",
       "}});\n",
       "\n",
       "// Listen for the removal of the full notebook cells\n",
       "var notebookContainer = gd.closest('#notebook-container');\n",
       "if (notebookContainer) {{\n",
       "    x.observe(notebookContainer, {childList: true});\n",
       "}}\n",
       "\n",
       "// Listen for the clearing of the current output cell\n",
       "var outputEl = gd.closest('.output');\n",
       "if (outputEl) {{\n",
       "    x.observe(outputEl, {childList: true});\n",
       "}}\n",
       "\n",
       "                        })                };                });            </script>        </div>"
      ]
     },
     "metadata": {},
     "output_type": "display_data"
    }
   ],
   "source": [
    "topic_model.visualize_barchart()"
   ]
  },
  {
   "cell_type": "code",
   "execution_count": 50,
   "metadata": {},
   "outputs": [
    {
     "data": {
      "image/png": "[encoded data removed]",
      "text/plain": [
       "<Figure size 1200x1000 with 2 Axes>"
      ]
     },
     "metadata": {},
     "output_type": "display_data"
    }
   ],
   "source": [
    "import matplotlib.pyplot as plt\n",
    "from bertopic import BERTopic\n",
    "import umap\n",
    "\n",
    "# Assuming you already have the topic model trained\n",
    "# topics, _ = topic_model.fit_transform(docs)\n",
    "\n",
    "# 1. Access the topic embeddings directly\n",
    "topic_embeddings = topic_model.topic_embeddings_\n",
    "\n",
    "# Limit to the first 10 topics or fewer if there are less than 10\n",
    "num_topics_to_visualize = min(10, len(topic_embeddings))\n",
    "topic_embeddings_subset = topic_embeddings[:num_topics_to_visualize]\n",
    "\n",
    "# 2. Reduce the dimensionality of the selected topic embeddings using UMAP\n",
    "umap_model = umap.UMAP(n_neighbors=15, min_dist=0.1, metric='cosine')\n",
    "umap_embeddings = umap_model.fit_transform(topic_embeddings_subset)\n",
    "\n",
    "# 3. Plot the topics in 2D space to visualize their similarity\n",
    "plt.figure(figsize=(12, 10))\n",
    "plt.scatter(umap_embeddings[:, 0], umap_embeddings[:, 1], c=range(num_topics_to_visualize), cmap='Spectral', s=50)\n",
    "\n",
    "# Add topic numbers as labels to each point\n",
    "for i, (x, y) in enumerate(umap_embeddings):\n",
    "    plt.text(x, y, str(i), fontsize=9, ha='center', va='center', bbox=dict(facecolor='white', alpha=0.5, edgecolor='none'))\n",
    "\n",
    "# Add colorbar and labels\n",
    "plt.colorbar()\n",
    "plt.title(\"Topic Similarity Visualization (First 10 Topics or Fewer)\")\n",
    "plt.xlabel(\"UMAP 1\")\n",
    "plt.ylabel(\"UMAP 2\")\n",
    "plt.show()"
   ]
  },
  {
   "cell_type": "code",
   "execution_count": 48,
   "metadata": {},
   "outputs": [
    {
     "name": "stdout",
     "output_type": "stream",
     "text": [
      "Number of topics: 23\n",
      "Topic 0: [('deferred resignation', 0.0988743909569118), ('probationary period', 0.07254121776779972), ('special counsel', 0.06171813440744967), ('class action', 0.05166956284434125), ('effective date', 0.04601873706154718), ('termination letter', 0.03878006690173695), ('protection board', 0.035787414524161364), ('merit system protection', 0.035787414524161364), ('system protection board', 0.035787414524161364), ('deferred resignation program', 0.03422442003202716)]\n",
      "Topic 1: [('opm gov', 0.1315310149528806), ('response opm', 0.09357517069699287), ('received opm', 0.0735934139950174), ('respond opm', 0.06785032898758571), ('what last', 0.06072464320975565), ('five bullet', 0.05076405087034257), ('chain command', 0.04454730499463567), ('classified information', 0.04146097001690842), ('told respond', 0.03960675334453416), ('what last week', 0.037852969888429164)]\n",
      "Topic 2: [('gov worker', 0.04594154896551711), ('mental health', 0.04216259574957554), ('hold line', 0.04102879051477601), ('public servant', 0.0408862110428928), ('stay strong', 0.03409229247460838), ('united state', 0.03031591791256564), ('civil service', 0.029280227838688548), ('making decision', 0.02447903912192867), ('serve american', 0.02415918815407777), ('serve american people', 0.02415918815407777)]\n",
      "Topic 3: [('rif notice', 0.07656892292750474), ('reduction force', 0.06317243119772785), ('omb opm', 0.05818264027116484), ('law enforcement', 0.0565486398679636), ('real property', 0.04419593370109041), ('opm memo', 0.038287736512107484), ('early retirement', 0.038097646284437646), ('force rifs', 0.037954812453046154), ('reduction force rifs', 0.037954812453046154), ('opm omb', 0.03573087247237913)]\n",
      "Topic 4: [('elon musk', 0.3416531271012857), ('trump musk', 0.18923122112236768), ('ignore musk', 0.127248996001875), ('tell worker', 0.12544368600133077), ('pulse check', 0.10013769317433281), ('cost cutting', 0.09082709386678423), ('million fed', 0.07470404942037233), ('threat fire', 0.07363135055087543), ('respond second', 0.07357747511512586), ('something bigger', 0.07200818970696715)]\n",
      "Topic 5: [('fired fed', 0.12788764089805893), ('fired worker', 0.11414670462941187), ('illegally fired', 0.11241144827068326), ('illegal firing', 0.1079200538034309), ('hire fire', 0.09051936708286389), ('failure respond', 0.07996798663696547), ('mass firing', 0.07654482392058827), ('bullet point last', 0.07079103116815388), ('point last', 0.07079103116815388), ('worker fired', 0.06072245020908052)]\n",
      "Topic 6: [('remote worker', 0.18957633254292847), ('duty station', 0.1391062175788619), ('reasonable accommodation', 0.1239670889529849), ('bargaining unit', 0.12145853396781002), ('mile away', 0.08087494551274003), ('competitive area', 0.07883466288644794), ('rto mandate', 0.06575686521239138), ('trying find', 0.06341862486650385), ('must comply', 0.060685210704746514), ('public safety', 0.05836210357868043)]\n",
      "Topic 7: [('acting administrator', 0.19026025778427527), ('white house', 0.14836471684103048), ('sensitive data', 0.14585203986922274), ('state level', 0.12330146405191238), ('new acting', 0.09840690161683827), ('department efficiency', 0.09508281011980808), ('contract cancelled', 0.09221892478683243), ('firing worker', 0.08830885276669999), ('trump administration', 0.08176088473012899), ('public service', 0.07994334323359223)]\n",
      "Topic 8: [('social medium', 0.12769611292952376), ('support worker', 0.09366258272051849), ('show support', 0.06598291055608788), ('outside building', 0.05727499189639494), ('customer service', 0.05105685304345083), ('sign support', 0.047498216544518586), ('making sure', 0.04370480575163126), ('its gone', 0.04308599778010323), ('bigger picture', 0.04308599778010323), ('anyone good', 0.04266908198503297)]\n",
      "Topic 9: [('social security', 0.10365001866351951), ('early retirement', 0.10118848157473886), ('civil right', 0.06991604822306188), ('voluntary early', 0.06434768806281194), ('voluntary early retirement', 0.06434768806281194), ('march 2025', 0.061408415640933384), ('response considered', 0.05138797563169257), ('creditable service', 0.05082092387263321), ('service age', 0.05074524565481528), ('bullet accomplishment last', 0.0501050973809516)]\n",
      "Topic 10: [('washpost com', 0.11940079513885438), ('com mailto', 0.10726438539793298), ('tell story', 0.08887633737667693), ('news article', 0.07481597927204649), ('hear people', 0.0694422928468386), ('public health', 0.0680117991274007), ('kash patel', 0.06744012988519726), ('security administration', 0.06636960992636916), ('nbc news', 0.05609287046206671), ('people affected', 0.056059812457662984)]\n",
      "Topic 11: [('000 000', 0.20646800008179536), ('shall submit', 0.1775982906597903), ('house representative', 0.1096567009479624), ('member congress', 0.060600078164153706), ('new system', 0.05969863717637855), ('income tax', 0.05623256995502713), ('tax cut', 0.05451678904985088), ('town hall', 0.051755700989737634), ('congressman senator', 0.05086611238048097), ('first amendment', 0.045541607871453164)]\n",
      "Topic 12: [('dead people', 0.1038831313313594), ('cabinet meeting', 0.08719695433204551), ('doug collins', 0.08254122588202195), ('non existent', 0.080820713242256), ('orange man', 0.0741153231686245), ('number people', 0.07124603141494226), ('big ball', 0.06540105240162145), ('last ask', 0.04806097208900987), ('senior leadership', 0.04806097208900987), ('bullet point response', 0.04796723831131681)]\n",
      "Topic 13: [('national park', 0.37997122264262084), ('forest service', 0.27318818138709733), ('national park service', 0.18209431116571256), ('park service', 0.16940825987973615), ('without warning', 0.1323836022644874), ('talking point', 0.11901658652784536), ('fully successful', 0.0948165133330338), ('due process', 0.07862643477916788), ('across country', 0.07211653497223124), ('without due process', 0.07121009685405831)]\n",
      "Topic 14: [('performance plan', 0.6796490514867642), ('performance standard', 0.22675435864526242), ('performance review', 0.1447710733514055), ('since started', 0.13435771468939925), ('effective immediately', 0.1303895109067385), ('send bullet', 0.07544377160576024), ('resignation letter', 0.07544377160576024), ('anyone whats', 0.07544377160576024), ('send bullet point', 0.07544377160576024), ('today today', 0.07544377160576024)]\n",
      "Topic 15: [('health insurance', 0.20893705749239574), ('illegally terminated', 0.14077379698009132), ('large number', 0.09425712368227004), ('thanks advance', 0.0828873025477586), ('im currently', 0.07965165281246425), ('im worried', 0.07452293736406787), ('probationary worker', 0.06432995190303624), ('anyone experience', 0.06095204498673232), ('advice appreciated', 0.05597708193156943), ('cancelled yesterday', 0.05597708193156943)]\n",
      "Topic 16: [('credit card', 0.6252404945948822), ('travel card', 0.4333250265786746), ('nte date', 0.15480462131820982), ('told leadership', 0.10049227881144752), ('late last night', 0.10040278003100113), ('late last', 0.10040278003100113), ('longer allowed', 0.10040278003100113), ('might good', 0.10040278003100113), ('else told', 0.09837592802615622), ('anyone else told', 0.09837592802615622)]\n",
      "Topic 17: [('veteran affair', 0.1553058058188675), ('firing veteran', 0.10961859631520261), ('indiscriminate firing', 0.08743418068517704), ('house committee', 0.08466195702814387), ('brother sister', 0.07676797017242315), ('told yesterday', 0.05090983247444426), ('veteran care', 0.05077460574137242), ('name list', 0.05077460574137242), ('dont its', 0.05077460574137242), ('impact veteran', 0.05077460574137242)]\n",
      "Topic 18: [('conflict interest', 0.14333741758391308), ('quick google', 0.12941265356146572), ('tsp contribution', 0.12935605864151056), ('anyone experienced', 0.12766890709211562), ('google search', 0.12766890709211562), ('falling apart', 0.1260721310879941), ('sooner later', 0.12590568246671702), ('end dont', 0.12590568246671702), ('put pressure', 0.12525201755128204), ('people tell', 0.12467703677690577)]\n",
      "Topic 19: [('official website', 0.15942715877773467), ('doesnt seem', 0.15785537426665988), ('waste fraud abuse', 0.14223308819643538), ('fraud abuse', 0.14111085410988689), ('waste fraud', 0.130696301213241), ('cant link', 0.09711297942109513), ('responding anyone', 0.09696847401027305), ('org chart', 0.09564198496036391), ('today were', 0.0955362811806601), ('called department efficiency', 0.09398390190982817)]\n",
      "Topic 20: [('usaid staff', 0.18024682286031599), ('direct hire', 0.1347146477397427), ('sign support', 0.12023282663655165), ('im seeing', 0.11953829548758672), ('im sorry', 0.1170120185250954), ('february 2025', 0.10159408381604482), ('state department', 0.09944764557111012), ('public servant', 0.09753963940249794), ('placed administrative', 0.09718544275471819), ('spread word', 0.08094016359055048)]\n",
      "Topic 21: [('glimmer hope', 0.15693428839209933), ('adverse action', 0.1540303384716316), ('trying best', 0.15001123549957252), ('cfr part', 0.14448867550632458), ('dont understand', 0.12274363056396455), ('im trying', 0.11387710150794873), ('perform duty', 0.09389706632258885), ('getting done', 0.09258965346369455), ('written notice', 0.09255099334295393), ('wonder long', 0.09240960750396128)]\n",
      "Topic 22: False\n"
     ]
    }
   ],
   "source": [
    "# Get the words associated with all topic\n",
    "num_topics = len(topic_model.get_topics())\n",
    "# number of topics\n",
    "print(f\"Number of topics: {num_topics}\")\n",
    "for i in range(num_topics):\n",
    "    print(f\"Topic {i}: {topic_model.get_topic(i)}\")"
   ]
  },
  {
   "cell_type": "markdown",
   "metadata": {},
   "source": [
    "Visualizing topic modeling with heatmap"
   ]
  },
  {
   "cell_type": "code",
   "execution_count": 12,
   "metadata": {},
   "outputs": [],
   "source": [
    "import pandas as pd\n",
    "#notebooks/topic_modeling_output/bertopic_output/topic_modeling.csv\n",
    "# Load the uploaded file to examine its contents\n",
    "file_path = '../notebooks/topic_modeling_output/bertopic_output/topic_modeling.csv'\n",
    "data = pd.read_csv(file_path)\n",
    "\n",
    "# Display the first few rows to understand the structure of the data\n",
    "data.head()\n",
    "\n",
    "#convert the float values of 2nd to last columns to integer\n",
    "for col in data.columns[1:]:\n",
    "    data[col] = data[col].astype(int)"
   ]
  },
  {
   "cell_type": "code",
   "execution_count": 14,
   "metadata": {},
   "outputs": [
    {
     "data": {
      "image/png": "[encoded data removed]",
      "text/plain": [
       "<Figure size 1200x800 with 1 Axes>"
      ]
     },
     "metadata": {},
     "output_type": "display_data"
    }
   ],
   "source": [
    "# Modify the heatmap with the correct format for floating-point numbers and color adjustments\n",
    "import matplotlib.pyplot as plt\n",
    "import seaborn as sns\n",
    "\n",
    "heatmap_data = data.drop(columns=['Topic name']) \n",
    "plt.figure(figsize=(12, 8))\n",
    "\n",
    "# Use 'coolwarm' color map where 0s are colored with a lighter shade, not white\n",
    "sns.heatmap(heatmap_data, annot=True, fmt=\"d\", cmap=\"YlGnBu\", cbar=False, \n",
    "            xticklabels=data.columns[1:], yticklabels=data['Topic name'],\n",
    "            linewidths=0.5, linecolor='gray', annot_kws={\"size\": 8}, cbar_kws={\"shrink\": 0.8})\n",
    "\n",
    "# Set plot title and labels\n",
    "plt.title('Topic Distribution Over Weeks', fontsize=16)\n",
    "plt.xlabel('Week Number', fontsize=12)\n",
    "plt.ylabel('Topic', fontsize=12)\n",
    "\n",
    "plt.show()\n",
    "\n",
    "\n",
    "# heatmap_data = data.drop(columns=['Topic name']) \n",
    "# # Create a heatmap using the filled data (without 1s and 0s, just colors)\n",
    "# plt.figure(figsize=(12, 8))\n",
    "# sns.heatmap(heatmap_data, annot=False, cmap=\"Blues\", cbar=True, xticklabels=data.columns[1:], yticklabels=data['Topic name'])\n",
    "# plt.title('Topic Distribution Over Weeks')\n",
    "# plt.xlabel('Week Number')\n",
    "# plt.ylabel('Topic')\n",
    "# plt.show()"
   ]
  },
  {
   "cell_type": "markdown",
   "metadata": {},
   "source": [
    "clustering topics and then trying time series"
   ]
  },
  {
   "cell_type": "code",
   "execution_count": 18,
   "metadata": {},
   "outputs": [],
   "source": [
    "import pandas as pd\n",
    "\n",
    "file_path = '../notebooks/topic_modeling_output/bertopic_output/topic_modeling_edited.csv'\n",
    "data = pd.read_csv(file_path)"
   ]
  },
  {
   "cell_type": "code",
   "execution_count": 19,
   "metadata": {},
   "outputs": [],
   "source": [
    "group_1 = ['Private Sector', 'Retirement Planning', 'Federal Health Plan', 'Civil Service']\n",
    "group_2 = ['Telework Policy Change', 'Mayorkas Farewell', 'RIF Notice', 'Deferred Resignation Program', \n",
    "           'Funding Freeze', 'Treasury Department', 'USAID Funding Cut', 'Mass Layoff']\n",
    "group_3 = ['Tension about Hiring Freeze', '401k Concerns', 'OPM Confusion']\n",
    "group_4 = ['Mental Health Issues', 'Tension Among Probationaries', 'DEI Concerns', 'Defending Constitution', \n",
    "           'President Trump', 'Elon Musk & DOGE', 'Fork in the Road']\n",
    "group_5 = ['Federal Union', 'Class Action Lawsuit', 'Call For Push Back']"
   ]
  },
  {
   "cell_type": "code",
   "execution_count": 20,
   "metadata": {},
   "outputs": [],
   "source": [
    "gropued_data = data.copy()"
   ]
  },
  {
   "cell_type": "code",
   "execution_count": 21,
   "metadata": {},
   "outputs": [],
   "source": [
    "# go through each value in column 1 of data, check if it is in group_1, group_2, group_3, group_4, group_5 and assign the group name to that value\n",
    "for i in range(len(gropued_data)):\n",
    "    if gropued_data.iloc[i, 0] in group_1:\n",
    "        gropued_data.iloc[i, 0] = 'Group_1'\n",
    "    elif gropued_data.iloc[i, 0] in group_2:\n",
    "        gropued_data.iloc[i, 0] = 'Group_2'\n",
    "    elif gropued_data.iloc[i, 0] in group_3:\n",
    "        gropued_data.iloc[i, 0] = 'Group_3'\n",
    "    elif gropued_data.iloc[i, 0] in group_4:\n",
    "        gropued_data.iloc[i, 0] = 'Group_4'\n",
    "    elif gropued_data.iloc[i, 0] in group_5:\n",
    "        gropued_data.iloc[i, 0] = 'Group_5'\n",
    "\n"
   ]
  },
  {
   "cell_type": "code",
   "execution_count": 22,
   "metadata": {},
   "outputs": [
    {
     "data": {
      "text/html": [
       "<div>\n",
       "<style scoped>\n",
       "    .dataframe tbody tr th:only-of-type {\n",
       "        vertical-align: middle;\n",
       "    }\n",
       "\n",
       "    .dataframe tbody tr th {\n",
       "        vertical-align: top;\n",
       "    }\n",
       "\n",
       "    .dataframe thead th {\n",
       "        text-align: right;\n",
       "    }\n",
       "</style>\n",
       "<table border=\"1\" class=\"dataframe\">\n",
       "  <thead>\n",
       "    <tr style=\"text-align: right;\">\n",
       "      <th></th>\n",
       "      <th>Topic name</th>\n",
       "      <th>week1</th>\n",
       "      <th>week2</th>\n",
       "      <th>week3</th>\n",
       "      <th>week4</th>\n",
       "      <th>week5</th>\n",
       "      <th>week6</th>\n",
       "      <th>week7</th>\n",
       "      <th>week8</th>\n",
       "      <th>week9</th>\n",
       "    </tr>\n",
       "  </thead>\n",
       "  <tbody>\n",
       "    <tr>\n",
       "      <th>0</th>\n",
       "      <td>Group_1</td>\n",
       "      <td>1.0</td>\n",
       "      <td>0.0</td>\n",
       "      <td>0.0</td>\n",
       "      <td>0.0</td>\n",
       "      <td>0.0</td>\n",
       "      <td>0.0</td>\n",
       "      <td>1.0</td>\n",
       "      <td>0.0</td>\n",
       "      <td>0.0</td>\n",
       "    </tr>\n",
       "    <tr>\n",
       "      <th>1</th>\n",
       "      <td>Group_1</td>\n",
       "      <td>1.0</td>\n",
       "      <td>0.0</td>\n",
       "      <td>0.0</td>\n",
       "      <td>0.0</td>\n",
       "      <td>0.0</td>\n",
       "      <td>0.0</td>\n",
       "      <td>0.0</td>\n",
       "      <td>0.0</td>\n",
       "      <td>0.0</td>\n",
       "    </tr>\n",
       "    <tr>\n",
       "      <th>2</th>\n",
       "      <td>Group_1</td>\n",
       "      <td>1.0</td>\n",
       "      <td>1.0</td>\n",
       "      <td>0.0</td>\n",
       "      <td>1.0</td>\n",
       "      <td>0.0</td>\n",
       "      <td>0.0</td>\n",
       "      <td>0.0</td>\n",
       "      <td>0.0</td>\n",
       "      <td>0.0</td>\n",
       "    </tr>\n",
       "    <tr>\n",
       "      <th>3</th>\n",
       "      <td>Group_2</td>\n",
       "      <td>0.0</td>\n",
       "      <td>1.0</td>\n",
       "      <td>1.0</td>\n",
       "      <td>0.0</td>\n",
       "      <td>1.0</td>\n",
       "      <td>1.0</td>\n",
       "      <td>1.0</td>\n",
       "      <td>1.0</td>\n",
       "      <td>1.0</td>\n",
       "    </tr>\n",
       "    <tr>\n",
       "      <th>4</th>\n",
       "      <td>Group_3</td>\n",
       "      <td>0.0</td>\n",
       "      <td>1.0</td>\n",
       "      <td>1.0</td>\n",
       "      <td>1.0</td>\n",
       "      <td>0.0</td>\n",
       "      <td>0.0</td>\n",
       "      <td>0.0</td>\n",
       "      <td>0.0</td>\n",
       "      <td>0.0</td>\n",
       "    </tr>\n",
       "  </tbody>\n",
       "</table>\n",
       "</div>"
      ],
      "text/plain": [
       "  Topic name  week1  week2  week3  week4  week5  week6  week7  week8  week9\n",
       "0    Group_1    1.0    0.0    0.0    0.0    0.0    0.0    1.0    0.0    0.0\n",
       "1    Group_1    1.0    0.0    0.0    0.0    0.0    0.0    0.0    0.0    0.0\n",
       "2    Group_1    1.0    1.0    0.0    1.0    0.0    0.0    0.0    0.0    0.0\n",
       "3    Group_2    0.0    1.0    1.0    0.0    1.0    1.0    1.0    1.0    1.0\n",
       "4    Group_3    0.0    1.0    1.0    1.0    0.0    0.0    0.0    0.0    0.0"
      ]
     },
     "execution_count": 22,
     "metadata": {},
     "output_type": "execute_result"
    }
   ],
   "source": [
    "gropued_data.head()"
   ]
  },
  {
   "cell_type": "code",
   "execution_count": 23,
   "metadata": {},
   "outputs": [],
   "source": [
    "# now, in grouped_data, for all rows with same group name, group them together do column-wise sum of the values and assign it to each column.\n",
    "grouped_data = gropued_data.groupby(gropued_data.columns[0]).sum().reset_index()\n",
    "grouped_data.head()\n",
    "grouped_data.to_csv('../notebooks/topic_modeling_output/bertopic_output/grouped_topic_modeling.csv', index=False)"
   ]
  },
  {
   "cell_type": "code",
   "execution_count": null,
   "metadata": {},
   "outputs": [
    {
     "ename": "KeyError",
     "evalue": "'Private Sector'",
     "output_type": "error",
     "traceback": [
      "\u001b[0;31m---------------------------------------------------------------------------\u001b[0m",
      "\u001b[0;31mKeyError\u001b[0m                                  Traceback (most recent call last)",
      "Cell \u001b[0;32mIn[2], line 45\u001b[0m\n\u001b[1;32m     40\u001b[0m \u001b[38;5;28;01mfor\u001b[39;00m group, topics \u001b[38;5;129;01min\u001b[39;00m \u001b[38;5;28mzip\u001b[39m([group_1, group_2, group_3, group_4, group_5], \n\u001b[1;32m     41\u001b[0m                          [\u001b[38;5;124m'\u001b[39m\u001b[38;5;124mGeneral Discussion Topics\u001b[39m\u001b[38;5;124m'\u001b[39m, \u001b[38;5;124m'\u001b[39m\u001b[38;5;124mGovernment Actions\u001b[39m\u001b[38;5;124m'\u001b[39m, \u001b[38;5;124m'\u001b[39m\u001b[38;5;124mConsequences of Actions\u001b[39m\u001b[38;5;124m'\u001b[39m, \n\u001b[1;32m     42\u001b[0m                           \u001b[38;5;124m'\u001b[39m\u001b[38;5;124mUsers Reaction\u001b[39m\u001b[38;5;124m'\u001b[39m, \u001b[38;5;124m'\u001b[39m\u001b[38;5;124mStrategizing Fightback\u001b[39m\u001b[38;5;124m'\u001b[39m]):\n\u001b[1;32m     43\u001b[0m     \u001b[38;5;28;01mfor\u001b[39;00m week \u001b[38;5;129;01min\u001b[39;00m data\u001b[38;5;241m.\u001b[39mcolumns:\n\u001b[1;32m     44\u001b[0m         \u001b[38;5;66;03m# Check if any topic in the group has a 1 for that week\u001b[39;00m\n\u001b[0;32m---> 45\u001b[0m         grouped_matrix\u001b[38;5;241m.\u001b[39mat[week, topics] \u001b[38;5;241m=\u001b[39m \u001b[38;5;241m1\u001b[39m \u001b[38;5;28;01mif\u001b[39;00m \u001b[38;5;28many\u001b[39m(data\u001b[38;5;241m.\u001b[39mloc[topic, week] \u001b[38;5;241m==\u001b[39m \u001b[38;5;241m1\u001b[39m \u001b[38;5;28;01mfor\u001b[39;00m topic \u001b[38;5;129;01min\u001b[39;00m group) \u001b[38;5;28;01melse\u001b[39;00m \u001b[38;5;241m0\u001b[39m\n\u001b[1;32m     47\u001b[0m \u001b[38;5;66;03m# Show the grouped matrix\u001b[39;00m\n\u001b[1;32m     48\u001b[0m grouped_matrix\n",
      "Cell \u001b[0;32mIn[2], line 45\u001b[0m, in \u001b[0;36m<genexpr>\u001b[0;34m(.0)\u001b[0m\n\u001b[1;32m     40\u001b[0m \u001b[38;5;28;01mfor\u001b[39;00m group, topics \u001b[38;5;129;01min\u001b[39;00m \u001b[38;5;28mzip\u001b[39m([group_1, group_2, group_3, group_4, group_5], \n\u001b[1;32m     41\u001b[0m                          [\u001b[38;5;124m'\u001b[39m\u001b[38;5;124mGeneral Discussion Topics\u001b[39m\u001b[38;5;124m'\u001b[39m, \u001b[38;5;124m'\u001b[39m\u001b[38;5;124mGovernment Actions\u001b[39m\u001b[38;5;124m'\u001b[39m, \u001b[38;5;124m'\u001b[39m\u001b[38;5;124mConsequences of Actions\u001b[39m\u001b[38;5;124m'\u001b[39m, \n\u001b[1;32m     42\u001b[0m                           \u001b[38;5;124m'\u001b[39m\u001b[38;5;124mUsers Reaction\u001b[39m\u001b[38;5;124m'\u001b[39m, \u001b[38;5;124m'\u001b[39m\u001b[38;5;124mStrategizing Fightback\u001b[39m\u001b[38;5;124m'\u001b[39m]):\n\u001b[1;32m     43\u001b[0m     \u001b[38;5;28;01mfor\u001b[39;00m week \u001b[38;5;129;01min\u001b[39;00m data\u001b[38;5;241m.\u001b[39mcolumns:\n\u001b[1;32m     44\u001b[0m         \u001b[38;5;66;03m# Check if any topic in the group has a 1 for that week\u001b[39;00m\n\u001b[0;32m---> 45\u001b[0m         grouped_matrix\u001b[38;5;241m.\u001b[39mat[week, topics] \u001b[38;5;241m=\u001b[39m \u001b[38;5;241m1\u001b[39m \u001b[38;5;28;01mif\u001b[39;00m \u001b[38;5;28many\u001b[39m(data\u001b[38;5;241m.\u001b[39mloc[topic, week] \u001b[38;5;241m==\u001b[39m \u001b[38;5;241m1\u001b[39m \u001b[38;5;28;01mfor\u001b[39;00m topic \u001b[38;5;129;01min\u001b[39;00m group) \u001b[38;5;28;01melse\u001b[39;00m \u001b[38;5;241m0\u001b[39m\n\u001b[1;32m     47\u001b[0m \u001b[38;5;66;03m# Show the grouped matrix\u001b[39;00m\n\u001b[1;32m     48\u001b[0m grouped_matrix\n",
      "File \u001b[0;32m~/anaconda3/lib/python3.12/site-packages/pandas/core/indexing.py:1183\u001b[0m, in \u001b[0;36m_LocationIndexer.__getitem__\u001b[0;34m(self, key)\u001b[0m\n\u001b[1;32m   1181\u001b[0m     key \u001b[38;5;241m=\u001b[39m \u001b[38;5;28mtuple\u001b[39m(com\u001b[38;5;241m.\u001b[39mapply_if_callable(x, \u001b[38;5;28mself\u001b[39m\u001b[38;5;241m.\u001b[39mobj) \u001b[38;5;28;01mfor\u001b[39;00m x \u001b[38;5;129;01min\u001b[39;00m key)\n\u001b[1;32m   1182\u001b[0m     \u001b[38;5;28;01mif\u001b[39;00m \u001b[38;5;28mself\u001b[39m\u001b[38;5;241m.\u001b[39m_is_scalar_access(key):\n\u001b[0;32m-> 1183\u001b[0m         \u001b[38;5;28;01mreturn\u001b[39;00m \u001b[38;5;28mself\u001b[39m\u001b[38;5;241m.\u001b[39mobj\u001b[38;5;241m.\u001b[39m_get_value(\u001b[38;5;241m*\u001b[39mkey, takeable\u001b[38;5;241m=\u001b[39m\u001b[38;5;28mself\u001b[39m\u001b[38;5;241m.\u001b[39m_takeable)\n\u001b[1;32m   1184\u001b[0m     \u001b[38;5;28;01mreturn\u001b[39;00m \u001b[38;5;28mself\u001b[39m\u001b[38;5;241m.\u001b[39m_getitem_tuple(key)\n\u001b[1;32m   1185\u001b[0m \u001b[38;5;28;01melse\u001b[39;00m:\n\u001b[1;32m   1186\u001b[0m     \u001b[38;5;66;03m# we by definition only have the 0th axis\u001b[39;00m\n",
      "File \u001b[0;32m~/anaconda3/lib/python3.12/site-packages/pandas/core/frame.py:4221\u001b[0m, in \u001b[0;36mDataFrame._get_value\u001b[0;34m(self, index, col, takeable)\u001b[0m\n\u001b[1;32m   4215\u001b[0m engine \u001b[38;5;241m=\u001b[39m \u001b[38;5;28mself\u001b[39m\u001b[38;5;241m.\u001b[39mindex\u001b[38;5;241m.\u001b[39m_engine\n\u001b[1;32m   4217\u001b[0m \u001b[38;5;28;01mif\u001b[39;00m \u001b[38;5;129;01mnot\u001b[39;00m \u001b[38;5;28misinstance\u001b[39m(\u001b[38;5;28mself\u001b[39m\u001b[38;5;241m.\u001b[39mindex, MultiIndex):\n\u001b[1;32m   4218\u001b[0m     \u001b[38;5;66;03m# CategoricalIndex: Trying to use the engine fastpath may give incorrect\u001b[39;00m\n\u001b[1;32m   4219\u001b[0m     \u001b[38;5;66;03m#  results if our categories are integers that dont match our codes\u001b[39;00m\n\u001b[1;32m   4220\u001b[0m     \u001b[38;5;66;03m# IntervalIndex: IntervalTree has no get_loc\u001b[39;00m\n\u001b[0;32m-> 4221\u001b[0m     row \u001b[38;5;241m=\u001b[39m \u001b[38;5;28mself\u001b[39m\u001b[38;5;241m.\u001b[39mindex\u001b[38;5;241m.\u001b[39mget_loc(index)\n\u001b[1;32m   4222\u001b[0m     \u001b[38;5;28;01mreturn\u001b[39;00m series\u001b[38;5;241m.\u001b[39m_values[row]\n\u001b[1;32m   4224\u001b[0m \u001b[38;5;66;03m# For MultiIndex going through engine effectively restricts us to\u001b[39;00m\n\u001b[1;32m   4225\u001b[0m \u001b[38;5;66;03m#  same-length tuples; see test_get_set_value_no_partial_indexing\u001b[39;00m\n",
      "File \u001b[0;32m~/anaconda3/lib/python3.12/site-packages/pandas/core/indexes/range.py:417\u001b[0m, in \u001b[0;36mRangeIndex.get_loc\u001b[0;34m(self, key)\u001b[0m\n\u001b[1;32m    415\u001b[0m         \u001b[38;5;28;01mraise\u001b[39;00m \u001b[38;5;167;01mKeyError\u001b[39;00m(key) \u001b[38;5;28;01mfrom\u001b[39;00m \u001b[38;5;21;01merr\u001b[39;00m\n\u001b[1;32m    416\u001b[0m \u001b[38;5;28;01mif\u001b[39;00m \u001b[38;5;28misinstance\u001b[39m(key, Hashable):\n\u001b[0;32m--> 417\u001b[0m     \u001b[38;5;28;01mraise\u001b[39;00m \u001b[38;5;167;01mKeyError\u001b[39;00m(key)\n\u001b[1;32m    418\u001b[0m \u001b[38;5;28mself\u001b[39m\u001b[38;5;241m.\u001b[39m_check_indexing_error(key)\n\u001b[1;32m    419\u001b[0m \u001b[38;5;28;01mraise\u001b[39;00m \u001b[38;5;167;01mKeyError\u001b[39;00m(key)\n",
      "\u001b[0;31mKeyError\u001b[0m: 'Private Sector'"
     ]
    }
   ],
   "source": [
    "\n",
    "\n",
    "# List of topics to be grouped into five categories as provided by the user\n",
    "group_1 = ['Private Sector', 'Retirement Planning', 'Federal Health Plan', 'Civil Service']\n",
    "group_2 = ['Telework Policy Change', 'Mayorkas Farewell', 'RIF Notice', 'Deferred Resignation Program', \n",
    "           'Funding Freeze', 'Treasury Department', 'USAID Funding Cut', 'Mass Layoff']\n",
    "group_3 = ['Tension about Hiring Freeze', '401k Concerns', 'OPM Confusion']\n",
    "group_4 = ['Mental Health Issues', 'Tension Among Probationaries', 'DEI Concerns', 'Defending Constitution', \n",
    "           'President Trump', 'Elon Musk & DOGE', 'Fork in the Road']\n",
    "group_5 = ['Federal Union', 'Class Action Lawsuit', 'Call For Push Back']\n",
    "\n",
    "\n",
    "# Ensure topics in the groups are mapped correctly to the matrix and that we use the correct topic names\n",
    "topic_names_in_data = data['Topic name'].values  # List of topic names from your dataset\n",
    "\n",
    "# Initialize a dictionary to map topic names to their respective groups\n",
    "topic_to_group = {}\n",
    "\n",
    "# Assign topics to their respective groups based on user input\n",
    "for topic in group_1:\n",
    "    topic_to_group[topic] = 'General Discussion Topics'\n",
    "for topic in group_2:\n",
    "    topic_to_group[topic] = 'Government Actions'\n",
    "for topic in group_3:\n",
    "    topic_to_group[topic] = 'Consequences of Actions'\n",
    "for topic in group_4:\n",
    "    topic_to_group[topic] = 'Users Reaction'\n",
    "for topic in group_5:\n",
    "    topic_to_group[topic] = 'Strategizing Fightback'\n",
    "\n",
    "# Initialize a new DataFrame for the grouped matrix\n",
    "grouped_matrix = pd.DataFrame(columns=['General Discussion Topics', 'Government Actions', \n",
    "                                       'Consequences of Actions', 'Users Reaction', 'Strategizing Fightback'],\n",
    "                              index=data.columns)\n",
    "\n",
    "# Iterate over weeks and groups, then check which topics belong to each group\n",
    "for group, topics in zip([group_1, group_2, group_3, group_4, group_5], \n",
    "                         ['General Discussion Topics', 'Government Actions', 'Consequences of Actions', \n",
    "                          'Users Reaction', 'Strategizing Fightback']):\n",
    "    for week in data.columns:\n",
    "        # Check if any topic in the group has a 1 for that week\n",
    "        grouped_matrix.at[week, topics] = 1 if any(data.loc[topic, week] == 1 for topic in group) else 0\n",
    "\n",
    "# Show the grouped matrix\n",
    "grouped_matrix\n"
   ]
  }
 ],
 "metadata": {
  "kernelspec": {
   "display_name": "base",
   "language": "python",
   "name": "python3"
  },
  "language_info": {
   "codemirror_mode": {
    "name": "ipython",
    "version": 3
   },
   "file_extension": ".py",
   "mimetype": "text/x-python",
   "name": "python",
   "nbconvert_exporter": "python",
   "pygments_lexer": "ipython3",
   "version": "3.12.7"
  }
 },
 "nbformat": 4,
 "nbformat_minor": 2
}
